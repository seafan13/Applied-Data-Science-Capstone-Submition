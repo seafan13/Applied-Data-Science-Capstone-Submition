{
  "metadata": {
    "kernelspec": {
      "name": "python",
      "display_name": "Python (Pyodide)",
      "language": "python"
    },
    "language_info": {
      "codemirror_mode": {
        "name": "python",
        "version": 3
      },
      "file_extension": ".py",
      "mimetype": "text/x-python",
      "name": "python",
      "nbconvert_exporter": "python",
      "pygments_lexer": "ipython3",
      "version": "3.8"
    }
  },
  "nbformat_minor": 4,
  "nbformat": 4,
  "cells": [
    {
      "cell_type": "markdown",
      "source": "<p style=\"text-align:center\">\n    <a href=\"https://skills.network/?utm_medium=Exinfluencer&utm_source=Exinfluencer&utm_content=000026UJ&utm_term=10006555&utm_id=NA-SkillsNetwork-Channel-SkillsNetworkCoursesIBMDS0321ENSkillsNetwork26802033-2022-01-01\" target=\"_blank\">\n    <img src=\"https://cf-courses-data.s3.us.cloud-object-storage.appdomain.cloud/assets/logos/SN_web_lightmode.png\" width=\"200\" alt=\"Skills Network Logo\"  />\n    </a>\n</p>\n",
      "metadata": {}
    },
    {
      "cell_type": "markdown",
      "source": "# **Launch Sites Locations Analysis with Folium**\n",
      "metadata": {}
    },
    {
      "cell_type": "markdown",
      "source": "Estimated time needed: **40** minutes\n",
      "metadata": {}
    },
    {
      "cell_type": "markdown",
      "source": "The launch success rate may depend on many factors such as payload mass, orbit type, and so on. It may also depend on the location and proximities of a launch site, i.e., the initial position of rocket trajectories. Finding an optimal location for building a launch site certainly involves many factors and hopefully we could discover some of the factors by analyzing the existing launch site locations.\n",
      "metadata": {}
    },
    {
      "cell_type": "markdown",
      "source": "In the previous exploratory data analysis labs, you have visualized the SpaceX launch dataset using `matplotlib` and `seaborn` and discovered some preliminary correlations between the launch site and success rates. In this lab, you will be performing more interactive visual analytics using `Folium`.\n",
      "metadata": {}
    },
    {
      "cell_type": "markdown",
      "source": "## Objectives\n",
      "metadata": {}
    },
    {
      "cell_type": "markdown",
      "source": "This lab contains the following tasks:\n\n*   **TASK 1:** Mark all launch sites on a map\n*   **TASK 2:** Mark the success/failed launches for each site on the map\n*   **TASK 3:** Calculate the distances between a launch site to its proximities\n\nAfter completed the above tasks, you should be able to find some geographical patterns about launch sites.\n",
      "metadata": {}
    },
    {
      "cell_type": "markdown",
      "source": "Let's first import required Python packages for this lab:\n",
      "metadata": {}
    },
    {
      "cell_type": "code",
      "source": "import piplite\nawait piplite.install(['folium'])\nawait piplite.install(['pandas'])",
      "metadata": {
        "trusted": true
      },
      "outputs": [],
      "execution_count": 1
    },
    {
      "cell_type": "code",
      "source": "import folium\nimport pandas as pd",
      "metadata": {
        "trusted": true
      },
      "outputs": [],
      "execution_count": 2
    },
    {
      "cell_type": "code",
      "source": "# Import folium MarkerCluster plugin\nfrom folium.plugins import MarkerCluster\n# Import folium MousePosition plugin\nfrom folium.plugins import MousePosition\n# Import folium DivIcon plugin\nfrom folium.features import DivIcon",
      "metadata": {
        "trusted": true
      },
      "outputs": [],
      "execution_count": 3
    },
    {
      "cell_type": "markdown",
      "source": "If you need to refresh your memory about folium, you may download and refer to this previous folium lab:\n",
      "metadata": {}
    },
    {
      "cell_type": "markdown",
      "source": "[Generating Maps with Python](https://cf-courses-data.s3.us.cloud-object-storage.appdomain.cloud/IBM-DS0321EN-SkillsNetwork/labs/module\\_3/DV0101EN-3-5-1-Generating-Maps-in-Python-py-v2.0.ipynb)\n",
      "metadata": {}
    },
    {
      "cell_type": "code",
      "source": "## Task 1: Mark all launch sites on a map\n",
      "metadata": {
        "trusted": true
      },
      "outputs": [],
      "execution_count": 4
    },
    {
      "cell_type": "markdown",
      "source": "First, let's try to add each site's location on a map using site's latitude and longitude coordinates\n",
      "metadata": {}
    },
    {
      "cell_type": "markdown",
      "source": "The following dataset with the name `spacex_launch_geo.csv` is an augmented dataset with latitude and longitude added for each site.\n",
      "metadata": {}
    },
    {
      "cell_type": "code",
      "source": "# Download and read the `spacex_launch_geo.csv`\nfrom js import fetch\nimport io\n\nURL = 'https://cf-courses-data.s3.us.cloud-object-storage.appdomain.cloud/IBM-DS0321EN-SkillsNetwork/datasets/spacex_launch_geo.csv'\nresp = await fetch(URL)\nspacex_csv_file = io.BytesIO((await resp.arrayBuffer()).to_py())\nspacex_df=pd.read_csv(spacex_csv_file)",
      "metadata": {
        "trusted": true
      },
      "outputs": [],
      "execution_count": 5
    },
    {
      "cell_type": "markdown",
      "source": "Now, you can take a look at what are the coordinates for each site.\n",
      "metadata": {}
    },
    {
      "cell_type": "code",
      "source": "# Select relevant sub-columns: `Launch Site`, `Lat(Latitude)`, `Long(Longitude)`, `class`\nspacex_df = spacex_df[['Launch Site', 'Lat', 'Long', 'class']]\nlaunch_sites_df = spacex_df.groupby(['Launch Site'], as_index=False).first()\nlaunch_sites_df = launch_sites_df[['Launch Site', 'Lat', 'Long']]\nlaunch_sites_df",
      "metadata": {
        "trusted": true
      },
      "outputs": [
        {
          "execution_count": 6,
          "output_type": "execute_result",
          "data": {
            "text/plain": "    Launch Site        Lat        Long\n0   CCAFS LC-40  28.562302  -80.577356\n1  CCAFS SLC-40  28.563197  -80.576820\n2    KSC LC-39A  28.573255  -80.646895\n3   VAFB SLC-4E  34.632834 -120.610745",
            "text/html": "<div>\n<style scoped>\n    .dataframe tbody tr th:only-of-type {\n        vertical-align: middle;\n    }\n\n    .dataframe tbody tr th {\n        vertical-align: top;\n    }\n\n    .dataframe thead th {\n        text-align: right;\n    }\n</style>\n<table border=\"1\" class=\"dataframe\">\n  <thead>\n    <tr style=\"text-align: right;\">\n      <th></th>\n      <th>Launch Site</th>\n      <th>Lat</th>\n      <th>Long</th>\n    </tr>\n  </thead>\n  <tbody>\n    <tr>\n      <th>0</th>\n      <td>CCAFS LC-40</td>\n      <td>28.562302</td>\n      <td>-80.577356</td>\n    </tr>\n    <tr>\n      <th>1</th>\n      <td>CCAFS SLC-40</td>\n      <td>28.563197</td>\n      <td>-80.576820</td>\n    </tr>\n    <tr>\n      <th>2</th>\n      <td>KSC LC-39A</td>\n      <td>28.573255</td>\n      <td>-80.646895</td>\n    </tr>\n    <tr>\n      <th>3</th>\n      <td>VAFB SLC-4E</td>\n      <td>34.632834</td>\n      <td>-120.610745</td>\n    </tr>\n  </tbody>\n</table>\n</div>"
          },
          "metadata": {}
        }
      ],
      "execution_count": 6
    },
    {
      "cell_type": "markdown",
      "source": "Above coordinates are just plain numbers that can not give you any intuitive insights about where are those launch sites. If you are very good at geography, you can interpret those numbers directly in your mind. If not, that's fine too. Let's visualize those locations by pinning them on a map.\n",
      "metadata": {}
    },
    {
      "cell_type": "markdown",
      "source": "We first need to create a folium `Map` object, with an initial center location to be NASA Johnson Space Center at Houston, Texas.\n",
      "metadata": {}
    },
    {
      "cell_type": "code",
      "source": "# Start location is NASA Johnson Space Center\nnasa_coordinate = [29.559684888503615, -95.0830971930759]\nsite_map = folium.Map(location=nasa_coordinate, zoom_start=10)",
      "metadata": {
        "trusted": true
      },
      "outputs": [],
      "execution_count": 7
    },
    {
      "cell_type": "markdown",
      "source": "We could use `folium.Circle` to add a highlighted circle area with a text label on a specific coordinate. For example,\n",
      "metadata": {}
    },
    {
      "cell_type": "code",
      "source": "# Create a blue circle at NASA Johnson Space Center's coordinate with a popup label showing its name\ncircle = folium.Circle(nasa_coordinate, radius=1000, color='#d35400', fill=True).add_child(folium.Popup('NASA Johnson Space Center'))\n# Create a blue circle at NASA Johnson Space Center's coordinate with a icon showing its name\nmarker = folium.map.Marker(\n    nasa_coordinate,\n    # Create an icon as a text label\n    icon=DivIcon(\n        icon_size=(20,20),\n        icon_anchor=(0,0),\n        html='<div style=\"font-size: 12; color:#d35400;\"><b>%s</b></div>' % 'NASA JSC',\n        )\n    )\nsite_map.add_child(circle)\nsite_map.add_child(marker)",
      "metadata": {
        "trusted": true
      },
      "outputs": [
        {
          "execution_count": 8,
          "output_type": "execute_result",
          "data": {
            "text/plain": "<folium.folium.Map at 0x282bca0>",
            "text/html": "<div style=\"width:100%;\"><div style=\"position:relative;width:100%;height:0;padding-bottom:60%;\"><span style=\"color:#565656\">Make this Notebook Trusted to load map: File -> Trust Notebook</span><iframe srcdoc=\"&lt;!DOCTYPE html&gt;\n&lt;html&gt;\n&lt;head&gt;\n    \n    &lt;meta http-equiv=&quot;content-type&quot; content=&quot;text/html; charset=UTF-8&quot; /&gt;\n    \n        &lt;script&gt;\n            L_NO_TOUCH = false;\n            L_DISABLE_3D = false;\n        &lt;/script&gt;\n    \n    &lt;style&gt;html, body {width: 100%;height: 100%;margin: 0;padding: 0;}&lt;/style&gt;\n    &lt;style&gt;#map {position:absolute;top:0;bottom:0;right:0;left:0;}&lt;/style&gt;\n    &lt;script src=&quot;https://cdn.jsdelivr.net/npm/leaflet@1.9.3/dist/leaflet.js&quot;&gt;&lt;/script&gt;\n    &lt;script src=&quot;https://code.jquery.com/jquery-3.7.1.min.js&quot;&gt;&lt;/script&gt;\n    &lt;script src=&quot;https://cdn.jsdelivr.net/npm/bootstrap@5.2.2/dist/js/bootstrap.bundle.min.js&quot;&gt;&lt;/script&gt;\n    &lt;script src=&quot;https://cdnjs.cloudflare.com/ajax/libs/Leaflet.awesome-markers/2.0.2/leaflet.awesome-markers.js&quot;&gt;&lt;/script&gt;\n    &lt;link rel=&quot;stylesheet&quot; href=&quot;https://cdn.jsdelivr.net/npm/leaflet@1.9.3/dist/leaflet.css&quot;/&gt;\n    &lt;link rel=&quot;stylesheet&quot; href=&quot;https://cdn.jsdelivr.net/npm/bootstrap@5.2.2/dist/css/bootstrap.min.css&quot;/&gt;\n    &lt;link rel=&quot;stylesheet&quot; href=&quot;https://netdna.bootstrapcdn.com/bootstrap/3.0.0/css/bootstrap.min.css&quot;/&gt;\n    &lt;link rel=&quot;stylesheet&quot; href=&quot;https://cdn.jsdelivr.net/npm/@fortawesome/fontawesome-free@6.2.0/css/all.min.css&quot;/&gt;\n    &lt;link rel=&quot;stylesheet&quot; href=&quot;https://cdnjs.cloudflare.com/ajax/libs/Leaflet.awesome-markers/2.0.2/leaflet.awesome-markers.css&quot;/&gt;\n    &lt;link rel=&quot;stylesheet&quot; href=&quot;https://cdn.jsdelivr.net/gh/python-visualization/folium/folium/templates/leaflet.awesome.rotate.min.css&quot;/&gt;\n    \n            &lt;meta name=&quot;viewport&quot; content=&quot;width=device-width,\n                initial-scale=1.0, maximum-scale=1.0, user-scalable=no&quot; /&gt;\n            &lt;style&gt;\n                #map_34bbd257f5420f2406a184bf71d3fe26 {\n                    position: relative;\n                    width: 100.0%;\n                    height: 100.0%;\n                    left: 0.0%;\n                    top: 0.0%;\n                }\n                .leaflet-container { font-size: 1rem; }\n            &lt;/style&gt;\n        \n&lt;/head&gt;\n&lt;body&gt;\n    \n    \n            &lt;div class=&quot;folium-map&quot; id=&quot;map_34bbd257f5420f2406a184bf71d3fe26&quot; &gt;&lt;/div&gt;\n        \n&lt;/body&gt;\n&lt;script&gt;\n    \n    \n            var map_34bbd257f5420f2406a184bf71d3fe26 = L.map(\n                &quot;map_34bbd257f5420f2406a184bf71d3fe26&quot;,\n                {\n                    center: [29.559684888503615, -95.0830971930759],\n                    crs: L.CRS.EPSG3857,\n                    zoom: 10,\n                    zoomControl: true,\n                    preferCanvas: false,\n                }\n            );\n\n            \n\n        \n    \n            var tile_layer_310f4c7b025e233d8016b0badb7ab21c = L.tileLayer(\n                &quot;https://tile.openstreetmap.org/{z}/{x}/{y}.png&quot;,\n                {&quot;attribution&quot;: &quot;\\u0026copy; \\u003ca href=\\&quot;https://www.openstreetmap.org/copyright\\&quot;\\u003eOpenStreetMap\\u003c/a\\u003e contributors&quot;, &quot;detectRetina&quot;: false, &quot;maxNativeZoom&quot;: 19, &quot;maxZoom&quot;: 19, &quot;minZoom&quot;: 0, &quot;noWrap&quot;: false, &quot;opacity&quot;: 1, &quot;subdomains&quot;: &quot;abc&quot;, &quot;tms&quot;: false}\n            );\n        \n    \n            tile_layer_310f4c7b025e233d8016b0badb7ab21c.addTo(map_34bbd257f5420f2406a184bf71d3fe26);\n        \n    \n            var circle_f2c1eb1c31f92f92a23ceb392f813b2e = L.circle(\n                [29.559684888503615, -95.0830971930759],\n                {&quot;bubblingMouseEvents&quot;: true, &quot;color&quot;: &quot;#d35400&quot;, &quot;dashArray&quot;: null, &quot;dashOffset&quot;: null, &quot;fill&quot;: true, &quot;fillColor&quot;: &quot;#d35400&quot;, &quot;fillOpacity&quot;: 0.2, &quot;fillRule&quot;: &quot;evenodd&quot;, &quot;lineCap&quot;: &quot;round&quot;, &quot;lineJoin&quot;: &quot;round&quot;, &quot;opacity&quot;: 1.0, &quot;radius&quot;: 1000, &quot;stroke&quot;: true, &quot;weight&quot;: 3}\n            ).addTo(map_34bbd257f5420f2406a184bf71d3fe26);\n        \n    \n        var popup_f2e8a37e8a7ccab918ca585d99b4a8d5 = L.popup({&quot;maxWidth&quot;: &quot;100%&quot;});\n\n        \n            \n                var html_02e168808c0b0456989733b85d9da432 = $(`&lt;div id=&quot;html_02e168808c0b0456989733b85d9da432&quot; style=&quot;width: 100.0%; height: 100.0%;&quot;&gt;NASA Johnson Space Center&lt;/div&gt;`)[0];\n                popup_f2e8a37e8a7ccab918ca585d99b4a8d5.setContent(html_02e168808c0b0456989733b85d9da432);\n            \n        \n\n        circle_f2c1eb1c31f92f92a23ceb392f813b2e.bindPopup(popup_f2e8a37e8a7ccab918ca585d99b4a8d5)\n        ;\n\n        \n    \n    \n            var marker_23ea42efe6ca74f6dcddbb1b899e3596 = L.marker(\n                [29.559684888503615, -95.0830971930759],\n                {}\n            ).addTo(map_34bbd257f5420f2406a184bf71d3fe26);\n        \n    \n            var div_icon_4e5695bd52292972310f9ce7c6687399 = L.divIcon({&quot;className&quot;: &quot;empty&quot;, &quot;html&quot;: &quot;\\u003cdiv style=\\&quot;font-size: 12; color:#d35400;\\&quot;\\u003e\\u003cb\\u003eNASA JSC\\u003c/b\\u003e\\u003c/div\\u003e&quot;, &quot;iconAnchor&quot;: [0, 0], &quot;iconSize&quot;: [20, 20]});\n            marker_23ea42efe6ca74f6dcddbb1b899e3596.setIcon(div_icon_4e5695bd52292972310f9ce7c6687399);\n        \n&lt;/script&gt;\n&lt;/html&gt;\" style=\"position:absolute;width:100%;height:100%;left:0;top:0;border:none !important;\" allowfullscreen webkitallowfullscreen mozallowfullscreen></iframe></div></div>"
          },
          "metadata": {}
        }
      ],
      "execution_count": 8
    },
    {
      "cell_type": "markdown",
      "source": "and you should find a small yellow circle near the city of Houston and you can zoom-in to see a larger circle.\n",
      "metadata": {}
    },
    {
      "cell_type": "markdown",
      "source": "Now, let's add a circle for each launch site in data frame `launch_sites`\n",
      "metadata": {}
    },
    {
      "cell_type": "markdown",
      "source": "*TODO:*  Create and add `folium.Circle` and `folium.Marker` for each launch site on the site map\n",
      "metadata": {}
    },
    {
      "cell_type": "markdown",
      "source": "An example of folium.Circle:\n",
      "metadata": {}
    },
    {
      "cell_type": "markdown",
      "source": "`folium.Circle(coordinate, radius=1000, color='#000000', fill=True).add_child(folium.Popup(...))`\n",
      "metadata": {}
    },
    {
      "cell_type": "markdown",
      "source": "An example of folium.Marker:\n",
      "metadata": {}
    },
    {
      "cell_type": "markdown",
      "source": "`folium.map.Marker(coordinate, icon=DivIcon(icon_size=(20,20),icon_anchor=(0,0), html='<div style=\"font-size: 12; color:#d35400;\"><b>%s</b></div>' % 'label', ))`\n",
      "metadata": {}
    },
    {
      "cell_type": "code",
      "source": "# Initial the map\nsite_map = folium.Map(location=nasa_coordinate, zoom_start=5)\n# For each launch site, add a Circle object based on its coordinate (Lat, Long) values. In addition, add Launch site name as a popup label\nfor i in range(0,4):\n    site = launch_sites_df[\"Launch Site\"][i]\n    lat = launch_sites_df[\"Lat\"][i]\n    long = launch_sites_df[\"Long\"][i]\n    site_cordinate = [lat, long]\n    print(site, lat, long)\n    # Create a blue circle at NASA Johnson Space Center's coordinate with a popup label showing its name\n    circle = folium.Circle(site_cordinate, radius=1000, color='#d35400', fill=True).add_child(folium.Popup(site))\n    # Create a blue circle at NASA Johnson Space Center's coordinate with a icon showing its name\n    marker = folium.map.Marker( site_cordinate, # Create an icon as a text label \n                               icon=DivIcon(\n                                   icon_size=(20,20),\n                                   icon_anchor=(0,0),\n                                   html='<div style=\"font-size: 12; color:#d35400;\"><b>%s</b></div>' % site,\n                               )\n                              )\n    site_map.add_child(circle)\n    site_map.add_child(marker)\n\nsite_map",
      "metadata": {
        "trusted": true,
        "scrolled": true
      },
      "outputs": [
        {
          "name": "stdout",
          "text": "CCAFS LC-40 28.56230197 -80.57735648\nCCAFS SLC-40 28.56319718 -80.57682003\nKSC LC-39A 28.57325457 -80.64689529\nVAFB SLC-4E 34.63283416 -120.6107455\n",
          "output_type": "stream"
        },
        {
          "execution_count": 9,
          "output_type": "execute_result",
          "data": {
            "text/plain": "<folium.folium.Map at 0x5a94ae8>",
            "text/html": "<div style=\"width:100%;\"><div style=\"position:relative;width:100%;height:0;padding-bottom:60%;\"><span style=\"color:#565656\">Make this Notebook Trusted to load map: File -> Trust Notebook</span><iframe srcdoc=\"&lt;!DOCTYPE html&gt;\n&lt;html&gt;\n&lt;head&gt;\n    \n    &lt;meta http-equiv=&quot;content-type&quot; content=&quot;text/html; charset=UTF-8&quot; /&gt;\n    \n        &lt;script&gt;\n            L_NO_TOUCH = false;\n            L_DISABLE_3D = false;\n        &lt;/script&gt;\n    \n    &lt;style&gt;html, body {width: 100%;height: 100%;margin: 0;padding: 0;}&lt;/style&gt;\n    &lt;style&gt;#map {position:absolute;top:0;bottom:0;right:0;left:0;}&lt;/style&gt;\n    &lt;script src=&quot;https://cdn.jsdelivr.net/npm/leaflet@1.9.3/dist/leaflet.js&quot;&gt;&lt;/script&gt;\n    &lt;script src=&quot;https://code.jquery.com/jquery-3.7.1.min.js&quot;&gt;&lt;/script&gt;\n    &lt;script src=&quot;https://cdn.jsdelivr.net/npm/bootstrap@5.2.2/dist/js/bootstrap.bundle.min.js&quot;&gt;&lt;/script&gt;\n    &lt;script src=&quot;https://cdnjs.cloudflare.com/ajax/libs/Leaflet.awesome-markers/2.0.2/leaflet.awesome-markers.js&quot;&gt;&lt;/script&gt;\n    &lt;link rel=&quot;stylesheet&quot; href=&quot;https://cdn.jsdelivr.net/npm/leaflet@1.9.3/dist/leaflet.css&quot;/&gt;\n    &lt;link rel=&quot;stylesheet&quot; href=&quot;https://cdn.jsdelivr.net/npm/bootstrap@5.2.2/dist/css/bootstrap.min.css&quot;/&gt;\n    &lt;link rel=&quot;stylesheet&quot; href=&quot;https://netdna.bootstrapcdn.com/bootstrap/3.0.0/css/bootstrap.min.css&quot;/&gt;\n    &lt;link rel=&quot;stylesheet&quot; href=&quot;https://cdn.jsdelivr.net/npm/@fortawesome/fontawesome-free@6.2.0/css/all.min.css&quot;/&gt;\n    &lt;link rel=&quot;stylesheet&quot; href=&quot;https://cdnjs.cloudflare.com/ajax/libs/Leaflet.awesome-markers/2.0.2/leaflet.awesome-markers.css&quot;/&gt;\n    &lt;link rel=&quot;stylesheet&quot; href=&quot;https://cdn.jsdelivr.net/gh/python-visualization/folium/folium/templates/leaflet.awesome.rotate.min.css&quot;/&gt;\n    \n            &lt;meta name=&quot;viewport&quot; content=&quot;width=device-width,\n                initial-scale=1.0, maximum-scale=1.0, user-scalable=no&quot; /&gt;\n            &lt;style&gt;\n                #map_3c3a262344c4c453d891040857d54011 {\n                    position: relative;\n                    width: 100.0%;\n                    height: 100.0%;\n                    left: 0.0%;\n                    top: 0.0%;\n                }\n                .leaflet-container { font-size: 1rem; }\n            &lt;/style&gt;\n        \n&lt;/head&gt;\n&lt;body&gt;\n    \n    \n            &lt;div class=&quot;folium-map&quot; id=&quot;map_3c3a262344c4c453d891040857d54011&quot; &gt;&lt;/div&gt;\n        \n&lt;/body&gt;\n&lt;script&gt;\n    \n    \n            var map_3c3a262344c4c453d891040857d54011 = L.map(\n                &quot;map_3c3a262344c4c453d891040857d54011&quot;,\n                {\n                    center: [29.559684888503615, -95.0830971930759],\n                    crs: L.CRS.EPSG3857,\n                    zoom: 5,\n                    zoomControl: true,\n                    preferCanvas: false,\n                }\n            );\n\n            \n\n        \n    \n            var tile_layer_1d17a45cb2fa38360dd5e11a9e9630fd = L.tileLayer(\n                &quot;https://tile.openstreetmap.org/{z}/{x}/{y}.png&quot;,\n                {&quot;attribution&quot;: &quot;\\u0026copy; \\u003ca href=\\&quot;https://www.openstreetmap.org/copyright\\&quot;\\u003eOpenStreetMap\\u003c/a\\u003e contributors&quot;, &quot;detectRetina&quot;: false, &quot;maxNativeZoom&quot;: 19, &quot;maxZoom&quot;: 19, &quot;minZoom&quot;: 0, &quot;noWrap&quot;: false, &quot;opacity&quot;: 1, &quot;subdomains&quot;: &quot;abc&quot;, &quot;tms&quot;: false}\n            );\n        \n    \n            tile_layer_1d17a45cb2fa38360dd5e11a9e9630fd.addTo(map_3c3a262344c4c453d891040857d54011);\n        \n    \n            var circle_144d6359c4b1281085a92b7be2183c96 = L.circle(\n                [28.56230197, -80.57735648],\n                {&quot;bubblingMouseEvents&quot;: true, &quot;color&quot;: &quot;#d35400&quot;, &quot;dashArray&quot;: null, &quot;dashOffset&quot;: null, &quot;fill&quot;: true, &quot;fillColor&quot;: &quot;#d35400&quot;, &quot;fillOpacity&quot;: 0.2, &quot;fillRule&quot;: &quot;evenodd&quot;, &quot;lineCap&quot;: &quot;round&quot;, &quot;lineJoin&quot;: &quot;round&quot;, &quot;opacity&quot;: 1.0, &quot;radius&quot;: 1000, &quot;stroke&quot;: true, &quot;weight&quot;: 3}\n            ).addTo(map_3c3a262344c4c453d891040857d54011);\n        \n    \n        var popup_8a10419ff9f51d8b3b823ab192f62084 = L.popup({&quot;maxWidth&quot;: &quot;100%&quot;});\n\n        \n            \n                var html_c51a348a247bc2c3abb47f96b0309e7f = $(`&lt;div id=&quot;html_c51a348a247bc2c3abb47f96b0309e7f&quot; style=&quot;width: 100.0%; height: 100.0%;&quot;&gt;CCAFS LC-40&lt;/div&gt;`)[0];\n                popup_8a10419ff9f51d8b3b823ab192f62084.setContent(html_c51a348a247bc2c3abb47f96b0309e7f);\n            \n        \n\n        circle_144d6359c4b1281085a92b7be2183c96.bindPopup(popup_8a10419ff9f51d8b3b823ab192f62084)\n        ;\n\n        \n    \n    \n            var marker_2f7ad9aeafdf330d3bd11a6ba9efbc70 = L.marker(\n                [28.56230197, -80.57735648],\n                {}\n            ).addTo(map_3c3a262344c4c453d891040857d54011);\n        \n    \n            var div_icon_474bb4992aa9a76401169151dc1b5086 = L.divIcon({&quot;className&quot;: &quot;empty&quot;, &quot;html&quot;: &quot;\\u003cdiv style=\\&quot;font-size: 12; color:#d35400;\\&quot;\\u003e\\u003cb\\u003eCCAFS LC-40\\u003c/b\\u003e\\u003c/div\\u003e&quot;, &quot;iconAnchor&quot;: [0, 0], &quot;iconSize&quot;: [20, 20]});\n            marker_2f7ad9aeafdf330d3bd11a6ba9efbc70.setIcon(div_icon_474bb4992aa9a76401169151dc1b5086);\n        \n    \n            var circle_9c44d48743bf6c356135a7276d44b85d = L.circle(\n                [28.56319718, -80.57682003],\n                {&quot;bubblingMouseEvents&quot;: true, &quot;color&quot;: &quot;#d35400&quot;, &quot;dashArray&quot;: null, &quot;dashOffset&quot;: null, &quot;fill&quot;: true, &quot;fillColor&quot;: &quot;#d35400&quot;, &quot;fillOpacity&quot;: 0.2, &quot;fillRule&quot;: &quot;evenodd&quot;, &quot;lineCap&quot;: &quot;round&quot;, &quot;lineJoin&quot;: &quot;round&quot;, &quot;opacity&quot;: 1.0, &quot;radius&quot;: 1000, &quot;stroke&quot;: true, &quot;weight&quot;: 3}\n            ).addTo(map_3c3a262344c4c453d891040857d54011);\n        \n    \n        var popup_9156565de91bdbedf2dbdd3a92a4e5fd = L.popup({&quot;maxWidth&quot;: &quot;100%&quot;});\n\n        \n            \n                var html_6608a0d8bc8ebff377df540f4ffb6bbf = $(`&lt;div id=&quot;html_6608a0d8bc8ebff377df540f4ffb6bbf&quot; style=&quot;width: 100.0%; height: 100.0%;&quot;&gt;CCAFS SLC-40&lt;/div&gt;`)[0];\n                popup_9156565de91bdbedf2dbdd3a92a4e5fd.setContent(html_6608a0d8bc8ebff377df540f4ffb6bbf);\n            \n        \n\n        circle_9c44d48743bf6c356135a7276d44b85d.bindPopup(popup_9156565de91bdbedf2dbdd3a92a4e5fd)\n        ;\n\n        \n    \n    \n            var marker_e0b62199cf7f892161894270fc3be36c = L.marker(\n                [28.56319718, -80.57682003],\n                {}\n            ).addTo(map_3c3a262344c4c453d891040857d54011);\n        \n    \n            var div_icon_c6643a179d8d03d7bace86d8b9aa1332 = L.divIcon({&quot;className&quot;: &quot;empty&quot;, &quot;html&quot;: &quot;\\u003cdiv style=\\&quot;font-size: 12; color:#d35400;\\&quot;\\u003e\\u003cb\\u003eCCAFS SLC-40\\u003c/b\\u003e\\u003c/div\\u003e&quot;, &quot;iconAnchor&quot;: [0, 0], &quot;iconSize&quot;: [20, 20]});\n            marker_e0b62199cf7f892161894270fc3be36c.setIcon(div_icon_c6643a179d8d03d7bace86d8b9aa1332);\n        \n    \n            var circle_5b308c34bbbd092cbe240b85937d06ee = L.circle(\n                [28.57325457, -80.64689529],\n                {&quot;bubblingMouseEvents&quot;: true, &quot;color&quot;: &quot;#d35400&quot;, &quot;dashArray&quot;: null, &quot;dashOffset&quot;: null, &quot;fill&quot;: true, &quot;fillColor&quot;: &quot;#d35400&quot;, &quot;fillOpacity&quot;: 0.2, &quot;fillRule&quot;: &quot;evenodd&quot;, &quot;lineCap&quot;: &quot;round&quot;, &quot;lineJoin&quot;: &quot;round&quot;, &quot;opacity&quot;: 1.0, &quot;radius&quot;: 1000, &quot;stroke&quot;: true, &quot;weight&quot;: 3}\n            ).addTo(map_3c3a262344c4c453d891040857d54011);\n        \n    \n        var popup_d22661abe130cc2b88051dc54adf9c80 = L.popup({&quot;maxWidth&quot;: &quot;100%&quot;});\n\n        \n            \n                var html_055db58bb7cf8503ce037673810d3f09 = $(`&lt;div id=&quot;html_055db58bb7cf8503ce037673810d3f09&quot; style=&quot;width: 100.0%; height: 100.0%;&quot;&gt;KSC LC-39A&lt;/div&gt;`)[0];\n                popup_d22661abe130cc2b88051dc54adf9c80.setContent(html_055db58bb7cf8503ce037673810d3f09);\n            \n        \n\n        circle_5b308c34bbbd092cbe240b85937d06ee.bindPopup(popup_d22661abe130cc2b88051dc54adf9c80)\n        ;\n\n        \n    \n    \n            var marker_cf30a91f185af5c0ea1a75cc402c4947 = L.marker(\n                [28.57325457, -80.64689529],\n                {}\n            ).addTo(map_3c3a262344c4c453d891040857d54011);\n        \n    \n            var div_icon_0f667bfd6769efaf1c6b1ebbd3fe1056 = L.divIcon({&quot;className&quot;: &quot;empty&quot;, &quot;html&quot;: &quot;\\u003cdiv style=\\&quot;font-size: 12; color:#d35400;\\&quot;\\u003e\\u003cb\\u003eKSC LC-39A\\u003c/b\\u003e\\u003c/div\\u003e&quot;, &quot;iconAnchor&quot;: [0, 0], &quot;iconSize&quot;: [20, 20]});\n            marker_cf30a91f185af5c0ea1a75cc402c4947.setIcon(div_icon_0f667bfd6769efaf1c6b1ebbd3fe1056);\n        \n    \n            var circle_c4307637da960535be7372d8f926cf45 = L.circle(\n                [34.63283416, -120.6107455],\n                {&quot;bubblingMouseEvents&quot;: true, &quot;color&quot;: &quot;#d35400&quot;, &quot;dashArray&quot;: null, &quot;dashOffset&quot;: null, &quot;fill&quot;: true, &quot;fillColor&quot;: &quot;#d35400&quot;, &quot;fillOpacity&quot;: 0.2, &quot;fillRule&quot;: &quot;evenodd&quot;, &quot;lineCap&quot;: &quot;round&quot;, &quot;lineJoin&quot;: &quot;round&quot;, &quot;opacity&quot;: 1.0, &quot;radius&quot;: 1000, &quot;stroke&quot;: true, &quot;weight&quot;: 3}\n            ).addTo(map_3c3a262344c4c453d891040857d54011);\n        \n    \n        var popup_79f25f887748b1d0dfbe39f60825e312 = L.popup({&quot;maxWidth&quot;: &quot;100%&quot;});\n\n        \n            \n                var html_3f002066cc91b0686f78517436ed6579 = $(`&lt;div id=&quot;html_3f002066cc91b0686f78517436ed6579&quot; style=&quot;width: 100.0%; height: 100.0%;&quot;&gt;VAFB SLC-4E&lt;/div&gt;`)[0];\n                popup_79f25f887748b1d0dfbe39f60825e312.setContent(html_3f002066cc91b0686f78517436ed6579);\n            \n        \n\n        circle_c4307637da960535be7372d8f926cf45.bindPopup(popup_79f25f887748b1d0dfbe39f60825e312)\n        ;\n\n        \n    \n    \n            var marker_5b62f12c4a9c1c6703b8bc1ac22a42d7 = L.marker(\n                [34.63283416, -120.6107455],\n                {}\n            ).addTo(map_3c3a262344c4c453d891040857d54011);\n        \n    \n            var div_icon_c643e1d17d3c400ea326ea7580db1d0e = L.divIcon({&quot;className&quot;: &quot;empty&quot;, &quot;html&quot;: &quot;\\u003cdiv style=\\&quot;font-size: 12; color:#d35400;\\&quot;\\u003e\\u003cb\\u003eVAFB SLC-4E\\u003c/b\\u003e\\u003c/div\\u003e&quot;, &quot;iconAnchor&quot;: [0, 0], &quot;iconSize&quot;: [20, 20]});\n            marker_5b62f12c4a9c1c6703b8bc1ac22a42d7.setIcon(div_icon_c643e1d17d3c400ea326ea7580db1d0e);\n        \n&lt;/script&gt;\n&lt;/html&gt;\" style=\"position:absolute;width:100%;height:100%;left:0;top:0;border:none !important;\" allowfullscreen webkitallowfullscreen mozallowfullscreen></iframe></div></div>"
          },
          "metadata": {}
        }
      ],
      "execution_count": 9
    },
    {
      "cell_type": "markdown",
      "source": "The generated map with marked launch sites should look similar to the following:\n",
      "metadata": {}
    },
    {
      "cell_type": "markdown",
      "source": "<center>\n    <img src=\"https://cf-courses-data.s3.us.cloud-object-storage.appdomain.cloud/IBM-DS0321EN-SkillsNetwork/labs/module_3/images/launch_site_markers.png\">\n</center>\n",
      "metadata": {}
    },
    {
      "cell_type": "markdown",
      "source": "Now, you can explore the map by zoom-in/out the marked areas\n, and try to answer the following questions:\n\n*   Are all launch sites in proximity to the Equator line?\n*   Are all launch sites in very close proximity to the coast?\n\nAlso please try to explain your findings.\n",
      "metadata": {}
    },
    {
      "cell_type": "code",
      "source": "# Task 2: Mark the success/failed launches for each site on the map\n",
      "metadata": {
        "trusted": true
      },
      "outputs": [],
      "execution_count": 10
    },
    {
      "cell_type": "markdown",
      "source": "Next, let's try to enhance the map by adding the launch outcomes for each site, and see which sites have high success rates.\nRecall that data frame spacex_df has detailed launch records, and the `class` column indicates if this launch was successful or not\n",
      "metadata": {}
    },
    {
      "cell_type": "code",
      "source": "spacex_df.head(56)",
      "metadata": {
        "trusted": true
      },
      "outputs": [
        {
          "execution_count": 11,
          "output_type": "execute_result",
          "data": {
            "text/plain": "     Launch Site        Lat        Long  class\n0    CCAFS LC-40  28.562302  -80.577356      0\n1    CCAFS LC-40  28.562302  -80.577356      0\n2    CCAFS LC-40  28.562302  -80.577356      0\n3    CCAFS LC-40  28.562302  -80.577356      0\n4    CCAFS LC-40  28.562302  -80.577356      0\n5    CCAFS LC-40  28.562302  -80.577356      0\n6    CCAFS LC-40  28.562302  -80.577356      0\n7    CCAFS LC-40  28.562302  -80.577356      0\n8    CCAFS LC-40  28.562302  -80.577356      0\n9    CCAFS LC-40  28.562302  -80.577356      0\n10   CCAFS LC-40  28.562302  -80.577356      0\n11   CCAFS LC-40  28.562302  -80.577356      0\n12   CCAFS LC-40  28.562302  -80.577356      0\n13   CCAFS LC-40  28.562302  -80.577356      0\n14   CCAFS LC-40  28.562302  -80.577356      0\n15   CCAFS LC-40  28.562302  -80.577356      0\n16   CCAFS LC-40  28.562302  -80.577356      0\n17   CCAFS LC-40  28.562302  -80.577356      1\n18   CCAFS LC-40  28.562302  -80.577356      1\n19   CCAFS LC-40  28.562302  -80.577356      0\n20   CCAFS LC-40  28.562302  -80.577356      1\n21   CCAFS LC-40  28.562302  -80.577356      1\n22   CCAFS LC-40  28.562302  -80.577356      1\n23   CCAFS LC-40  28.562302  -80.577356      0\n24   CCAFS LC-40  28.562302  -80.577356      1\n25   CCAFS LC-40  28.562302  -80.577356      1\n26   VAFB SLC-4E  34.632834 -120.610745      0\n27   VAFB SLC-4E  34.632834 -120.610745      0\n28   VAFB SLC-4E  34.632834 -120.610745      1\n29   VAFB SLC-4E  34.632834 -120.610745      1\n30   VAFB SLC-4E  34.632834 -120.610745      1\n31   VAFB SLC-4E  34.632834 -120.610745      1\n32   VAFB SLC-4E  34.632834 -120.610745      0\n33   VAFB SLC-4E  34.632834 -120.610745      0\n34   VAFB SLC-4E  34.632834 -120.610745      0\n35   VAFB SLC-4E  34.632834 -120.610745      0\n36    KSC LC-39A  28.573255  -80.646895      1\n37    KSC LC-39A  28.573255  -80.646895      0\n38    KSC LC-39A  28.573255  -80.646895      1\n39    KSC LC-39A  28.573255  -80.646895      1\n40    KSC LC-39A  28.573255  -80.646895      0\n41    KSC LC-39A  28.573255  -80.646895      1\n42    KSC LC-39A  28.573255  -80.646895      1\n43    KSC LC-39A  28.573255  -80.646895      0\n44    KSC LC-39A  28.573255  -80.646895      1\n45    KSC LC-39A  28.573255  -80.646895      1\n46    KSC LC-39A  28.573255  -80.646895      1\n47    KSC LC-39A  28.573255  -80.646895      1\n48    KSC LC-39A  28.573255  -80.646895      1\n49  CCAFS SLC-40  28.563197  -80.576820      1\n50  CCAFS SLC-40  28.563197  -80.576820      1\n51  CCAFS SLC-40  28.563197  -80.576820      0\n52  CCAFS SLC-40  28.563197  -80.576820      0\n53  CCAFS SLC-40  28.563197  -80.576820      0\n54  CCAFS SLC-40  28.563197  -80.576820      1\n55  CCAFS SLC-40  28.563197  -80.576820      0",
            "text/html": "<div>\n<style scoped>\n    .dataframe tbody tr th:only-of-type {\n        vertical-align: middle;\n    }\n\n    .dataframe tbody tr th {\n        vertical-align: top;\n    }\n\n    .dataframe thead th {\n        text-align: right;\n    }\n</style>\n<table border=\"1\" class=\"dataframe\">\n  <thead>\n    <tr style=\"text-align: right;\">\n      <th></th>\n      <th>Launch Site</th>\n      <th>Lat</th>\n      <th>Long</th>\n      <th>class</th>\n    </tr>\n  </thead>\n  <tbody>\n    <tr>\n      <th>0</th>\n      <td>CCAFS LC-40</td>\n      <td>28.562302</td>\n      <td>-80.577356</td>\n      <td>0</td>\n    </tr>\n    <tr>\n      <th>1</th>\n      <td>CCAFS LC-40</td>\n      <td>28.562302</td>\n      <td>-80.577356</td>\n      <td>0</td>\n    </tr>\n    <tr>\n      <th>2</th>\n      <td>CCAFS LC-40</td>\n      <td>28.562302</td>\n      <td>-80.577356</td>\n      <td>0</td>\n    </tr>\n    <tr>\n      <th>3</th>\n      <td>CCAFS LC-40</td>\n      <td>28.562302</td>\n      <td>-80.577356</td>\n      <td>0</td>\n    </tr>\n    <tr>\n      <th>4</th>\n      <td>CCAFS LC-40</td>\n      <td>28.562302</td>\n      <td>-80.577356</td>\n      <td>0</td>\n    </tr>\n    <tr>\n      <th>5</th>\n      <td>CCAFS LC-40</td>\n      <td>28.562302</td>\n      <td>-80.577356</td>\n      <td>0</td>\n    </tr>\n    <tr>\n      <th>6</th>\n      <td>CCAFS LC-40</td>\n      <td>28.562302</td>\n      <td>-80.577356</td>\n      <td>0</td>\n    </tr>\n    <tr>\n      <th>7</th>\n      <td>CCAFS LC-40</td>\n      <td>28.562302</td>\n      <td>-80.577356</td>\n      <td>0</td>\n    </tr>\n    <tr>\n      <th>8</th>\n      <td>CCAFS LC-40</td>\n      <td>28.562302</td>\n      <td>-80.577356</td>\n      <td>0</td>\n    </tr>\n    <tr>\n      <th>9</th>\n      <td>CCAFS LC-40</td>\n      <td>28.562302</td>\n      <td>-80.577356</td>\n      <td>0</td>\n    </tr>\n    <tr>\n      <th>10</th>\n      <td>CCAFS LC-40</td>\n      <td>28.562302</td>\n      <td>-80.577356</td>\n      <td>0</td>\n    </tr>\n    <tr>\n      <th>11</th>\n      <td>CCAFS LC-40</td>\n      <td>28.562302</td>\n      <td>-80.577356</td>\n      <td>0</td>\n    </tr>\n    <tr>\n      <th>12</th>\n      <td>CCAFS LC-40</td>\n      <td>28.562302</td>\n      <td>-80.577356</td>\n      <td>0</td>\n    </tr>\n    <tr>\n      <th>13</th>\n      <td>CCAFS LC-40</td>\n      <td>28.562302</td>\n      <td>-80.577356</td>\n      <td>0</td>\n    </tr>\n    <tr>\n      <th>14</th>\n      <td>CCAFS LC-40</td>\n      <td>28.562302</td>\n      <td>-80.577356</td>\n      <td>0</td>\n    </tr>\n    <tr>\n      <th>15</th>\n      <td>CCAFS LC-40</td>\n      <td>28.562302</td>\n      <td>-80.577356</td>\n      <td>0</td>\n    </tr>\n    <tr>\n      <th>16</th>\n      <td>CCAFS LC-40</td>\n      <td>28.562302</td>\n      <td>-80.577356</td>\n      <td>0</td>\n    </tr>\n    <tr>\n      <th>17</th>\n      <td>CCAFS LC-40</td>\n      <td>28.562302</td>\n      <td>-80.577356</td>\n      <td>1</td>\n    </tr>\n    <tr>\n      <th>18</th>\n      <td>CCAFS LC-40</td>\n      <td>28.562302</td>\n      <td>-80.577356</td>\n      <td>1</td>\n    </tr>\n    <tr>\n      <th>19</th>\n      <td>CCAFS LC-40</td>\n      <td>28.562302</td>\n      <td>-80.577356</td>\n      <td>0</td>\n    </tr>\n    <tr>\n      <th>20</th>\n      <td>CCAFS LC-40</td>\n      <td>28.562302</td>\n      <td>-80.577356</td>\n      <td>1</td>\n    </tr>\n    <tr>\n      <th>21</th>\n      <td>CCAFS LC-40</td>\n      <td>28.562302</td>\n      <td>-80.577356</td>\n      <td>1</td>\n    </tr>\n    <tr>\n      <th>22</th>\n      <td>CCAFS LC-40</td>\n      <td>28.562302</td>\n      <td>-80.577356</td>\n      <td>1</td>\n    </tr>\n    <tr>\n      <th>23</th>\n      <td>CCAFS LC-40</td>\n      <td>28.562302</td>\n      <td>-80.577356</td>\n      <td>0</td>\n    </tr>\n    <tr>\n      <th>24</th>\n      <td>CCAFS LC-40</td>\n      <td>28.562302</td>\n      <td>-80.577356</td>\n      <td>1</td>\n    </tr>\n    <tr>\n      <th>25</th>\n      <td>CCAFS LC-40</td>\n      <td>28.562302</td>\n      <td>-80.577356</td>\n      <td>1</td>\n    </tr>\n    <tr>\n      <th>26</th>\n      <td>VAFB SLC-4E</td>\n      <td>34.632834</td>\n      <td>-120.610745</td>\n      <td>0</td>\n    </tr>\n    <tr>\n      <th>27</th>\n      <td>VAFB SLC-4E</td>\n      <td>34.632834</td>\n      <td>-120.610745</td>\n      <td>0</td>\n    </tr>\n    <tr>\n      <th>28</th>\n      <td>VAFB SLC-4E</td>\n      <td>34.632834</td>\n      <td>-120.610745</td>\n      <td>1</td>\n    </tr>\n    <tr>\n      <th>29</th>\n      <td>VAFB SLC-4E</td>\n      <td>34.632834</td>\n      <td>-120.610745</td>\n      <td>1</td>\n    </tr>\n    <tr>\n      <th>30</th>\n      <td>VAFB SLC-4E</td>\n      <td>34.632834</td>\n      <td>-120.610745</td>\n      <td>1</td>\n    </tr>\n    <tr>\n      <th>31</th>\n      <td>VAFB SLC-4E</td>\n      <td>34.632834</td>\n      <td>-120.610745</td>\n      <td>1</td>\n    </tr>\n    <tr>\n      <th>32</th>\n      <td>VAFB SLC-4E</td>\n      <td>34.632834</td>\n      <td>-120.610745</td>\n      <td>0</td>\n    </tr>\n    <tr>\n      <th>33</th>\n      <td>VAFB SLC-4E</td>\n      <td>34.632834</td>\n      <td>-120.610745</td>\n      <td>0</td>\n    </tr>\n    <tr>\n      <th>34</th>\n      <td>VAFB SLC-4E</td>\n      <td>34.632834</td>\n      <td>-120.610745</td>\n      <td>0</td>\n    </tr>\n    <tr>\n      <th>35</th>\n      <td>VAFB SLC-4E</td>\n      <td>34.632834</td>\n      <td>-120.610745</td>\n      <td>0</td>\n    </tr>\n    <tr>\n      <th>36</th>\n      <td>KSC LC-39A</td>\n      <td>28.573255</td>\n      <td>-80.646895</td>\n      <td>1</td>\n    </tr>\n    <tr>\n      <th>37</th>\n      <td>KSC LC-39A</td>\n      <td>28.573255</td>\n      <td>-80.646895</td>\n      <td>0</td>\n    </tr>\n    <tr>\n      <th>38</th>\n      <td>KSC LC-39A</td>\n      <td>28.573255</td>\n      <td>-80.646895</td>\n      <td>1</td>\n    </tr>\n    <tr>\n      <th>39</th>\n      <td>KSC LC-39A</td>\n      <td>28.573255</td>\n      <td>-80.646895</td>\n      <td>1</td>\n    </tr>\n    <tr>\n      <th>40</th>\n      <td>KSC LC-39A</td>\n      <td>28.573255</td>\n      <td>-80.646895</td>\n      <td>0</td>\n    </tr>\n    <tr>\n      <th>41</th>\n      <td>KSC LC-39A</td>\n      <td>28.573255</td>\n      <td>-80.646895</td>\n      <td>1</td>\n    </tr>\n    <tr>\n      <th>42</th>\n      <td>KSC LC-39A</td>\n      <td>28.573255</td>\n      <td>-80.646895</td>\n      <td>1</td>\n    </tr>\n    <tr>\n      <th>43</th>\n      <td>KSC LC-39A</td>\n      <td>28.573255</td>\n      <td>-80.646895</td>\n      <td>0</td>\n    </tr>\n    <tr>\n      <th>44</th>\n      <td>KSC LC-39A</td>\n      <td>28.573255</td>\n      <td>-80.646895</td>\n      <td>1</td>\n    </tr>\n    <tr>\n      <th>45</th>\n      <td>KSC LC-39A</td>\n      <td>28.573255</td>\n      <td>-80.646895</td>\n      <td>1</td>\n    </tr>\n    <tr>\n      <th>46</th>\n      <td>KSC LC-39A</td>\n      <td>28.573255</td>\n      <td>-80.646895</td>\n      <td>1</td>\n    </tr>\n    <tr>\n      <th>47</th>\n      <td>KSC LC-39A</td>\n      <td>28.573255</td>\n      <td>-80.646895</td>\n      <td>1</td>\n    </tr>\n    <tr>\n      <th>48</th>\n      <td>KSC LC-39A</td>\n      <td>28.573255</td>\n      <td>-80.646895</td>\n      <td>1</td>\n    </tr>\n    <tr>\n      <th>49</th>\n      <td>CCAFS SLC-40</td>\n      <td>28.563197</td>\n      <td>-80.576820</td>\n      <td>1</td>\n    </tr>\n    <tr>\n      <th>50</th>\n      <td>CCAFS SLC-40</td>\n      <td>28.563197</td>\n      <td>-80.576820</td>\n      <td>1</td>\n    </tr>\n    <tr>\n      <th>51</th>\n      <td>CCAFS SLC-40</td>\n      <td>28.563197</td>\n      <td>-80.576820</td>\n      <td>0</td>\n    </tr>\n    <tr>\n      <th>52</th>\n      <td>CCAFS SLC-40</td>\n      <td>28.563197</td>\n      <td>-80.576820</td>\n      <td>0</td>\n    </tr>\n    <tr>\n      <th>53</th>\n      <td>CCAFS SLC-40</td>\n      <td>28.563197</td>\n      <td>-80.576820</td>\n      <td>0</td>\n    </tr>\n    <tr>\n      <th>54</th>\n      <td>CCAFS SLC-40</td>\n      <td>28.563197</td>\n      <td>-80.576820</td>\n      <td>1</td>\n    </tr>\n    <tr>\n      <th>55</th>\n      <td>CCAFS SLC-40</td>\n      <td>28.563197</td>\n      <td>-80.576820</td>\n      <td>0</td>\n    </tr>\n  </tbody>\n</table>\n</div>"
          },
          "metadata": {}
        }
      ],
      "execution_count": 11
    },
    {
      "cell_type": "markdown",
      "source": "Next, let's create markers for all launch records.\nIf a launch was successful `(class=1)`, then we use a green marker and if a launch was failed, we use a red marker `(class=0)`\n",
      "metadata": {}
    },
    {
      "cell_type": "markdown",
      "source": "Note that a launch only happens in one of the four launch sites, which means many launch records will have the exact same coordinate. Marker clusters can be a good way to simplify a map containing many markers having the same coordinate.\n",
      "metadata": {}
    },
    {
      "cell_type": "markdown",
      "source": "Let's first create a `MarkerCluster` object\n",
      "metadata": {}
    },
    {
      "cell_type": "code",
      "source": "marker_cluster = MarkerCluster()\nlaunch_sites_df",
      "metadata": {
        "trusted": true
      },
      "outputs": [
        {
          "execution_count": 12,
          "output_type": "execute_result",
          "data": {
            "text/plain": "    Launch Site        Lat        Long\n0   CCAFS LC-40  28.562302  -80.577356\n1  CCAFS SLC-40  28.563197  -80.576820\n2    KSC LC-39A  28.573255  -80.646895\n3   VAFB SLC-4E  34.632834 -120.610745",
            "text/html": "<div>\n<style scoped>\n    .dataframe tbody tr th:only-of-type {\n        vertical-align: middle;\n    }\n\n    .dataframe tbody tr th {\n        vertical-align: top;\n    }\n\n    .dataframe thead th {\n        text-align: right;\n    }\n</style>\n<table border=\"1\" class=\"dataframe\">\n  <thead>\n    <tr style=\"text-align: right;\">\n      <th></th>\n      <th>Launch Site</th>\n      <th>Lat</th>\n      <th>Long</th>\n    </tr>\n  </thead>\n  <tbody>\n    <tr>\n      <th>0</th>\n      <td>CCAFS LC-40</td>\n      <td>28.562302</td>\n      <td>-80.577356</td>\n    </tr>\n    <tr>\n      <th>1</th>\n      <td>CCAFS SLC-40</td>\n      <td>28.563197</td>\n      <td>-80.576820</td>\n    </tr>\n    <tr>\n      <th>2</th>\n      <td>KSC LC-39A</td>\n      <td>28.573255</td>\n      <td>-80.646895</td>\n    </tr>\n    <tr>\n      <th>3</th>\n      <td>VAFB SLC-4E</td>\n      <td>34.632834</td>\n      <td>-120.610745</td>\n    </tr>\n  </tbody>\n</table>\n</div>"
          },
          "metadata": {}
        }
      ],
      "execution_count": 12
    },
    {
      "cell_type": "markdown",
      "source": "*TODO:* Create a new column in `launch_sites` dataframe called `marker_color` to store the marker colors based on the `class` value\n",
      "metadata": {}
    },
    {
      "cell_type": "code",
      "source": "marker_color_list = [[],[],[],[]]\n# Apply a function to check the value of `class` column\nfor index, record in spacex_df.iterrows():\n    #check each lauch site and add to appropreat list\n    if record['Launch Site'] == 'CCAFS LC-40':\n        if record['class'] == 1:\n            # If class=1, marker_color value will be green\n            marker_color_list[0].append('green')\n        elif record['class'] == 0:\n            # If class=0, marker_color value will be red\n            marker_color_list[0].append('red')\n        else:\n            marker_color_list[0].append(None)\n    elif record['Launch Site'] == 'CCAFS SLC-40':\n        if record['class'] == 1:\n            # If class=1, marker_color value will be green\n            marker_color_list[1].append('green')\n        elif record['class'] == 0:\n            # If class=0, marker_color value will be red\n            marker_color_list[1].append('red')\n        else:\n            marker_color_list[1].append(None)\n    elif record['Launch Site'] == 'KSC LC-39A':\n        if record['class'] == 1:\n            # If class=1, marker_color value will be green\n            marker_color_list[2].append('green')\n        elif record['class'] == 0:\n            # If class=0, marker_color value will be red\n            marker_color_list[2].append('red')\n        else:\n            marker_color_list[2].append(None)\n    elif record['Launch Site'] == 'VAFB SLC-4E':\n        if record['class'] == 1:\n            # If class=1, marker_color value will be green\n            marker_color_list[3].append('green')\n        elif record['class'] == 0:\n            # If class=0, marker_color value will be red\n            marker_color_list[3].append('red')\n        else:\n            marker_color_list[3].append(None)\n    else:\n        print(\"No laucnh site for index: \", index)\n\nprint(marker_color_list)\n\nlaunch_sites_df[\"marker_cluster\"] = marker_color_list\nlaunch_sites_df",
      "metadata": {
        "trusted": true
      },
      "outputs": [
        {
          "name": "stdout",
          "text": "[['red', 'red', 'red', 'red', 'red', 'red', 'red', 'red', 'red', 'red', 'red', 'red', 'red', 'red', 'red', 'red', 'red', 'green', 'green', 'red', 'green', 'green', 'green', 'red', 'green', 'green'], ['green', 'green', 'red', 'red', 'red', 'green', 'red'], ['green', 'red', 'green', 'green', 'red', 'green', 'green', 'red', 'green', 'green', 'green', 'green', 'green'], ['red', 'red', 'green', 'green', 'green', 'green', 'red', 'red', 'red', 'red']]\n",
          "output_type": "stream"
        },
        {
          "execution_count": 13,
          "output_type": "execute_result",
          "data": {
            "text/plain": "    Launch Site        Lat        Long  \\\n0   CCAFS LC-40  28.562302  -80.577356   \n1  CCAFS SLC-40  28.563197  -80.576820   \n2    KSC LC-39A  28.573255  -80.646895   \n3   VAFB SLC-4E  34.632834 -120.610745   \n\n                                      marker_cluster  \n0  [red, red, red, red, red, red, red, red, red, ...  \n1          [green, green, red, red, red, green, red]  \n2  [green, red, green, green, red, green, green, ...  \n3  [red, red, green, green, green, green, red, re...  ",
            "text/html": "<div>\n<style scoped>\n    .dataframe tbody tr th:only-of-type {\n        vertical-align: middle;\n    }\n\n    .dataframe tbody tr th {\n        vertical-align: top;\n    }\n\n    .dataframe thead th {\n        text-align: right;\n    }\n</style>\n<table border=\"1\" class=\"dataframe\">\n  <thead>\n    <tr style=\"text-align: right;\">\n      <th></th>\n      <th>Launch Site</th>\n      <th>Lat</th>\n      <th>Long</th>\n      <th>marker_cluster</th>\n    </tr>\n  </thead>\n  <tbody>\n    <tr>\n      <th>0</th>\n      <td>CCAFS LC-40</td>\n      <td>28.562302</td>\n      <td>-80.577356</td>\n      <td>[red, red, red, red, red, red, red, red, red, ...</td>\n    </tr>\n    <tr>\n      <th>1</th>\n      <td>CCAFS SLC-40</td>\n      <td>28.563197</td>\n      <td>-80.576820</td>\n      <td>[green, green, red, red, red, green, red]</td>\n    </tr>\n    <tr>\n      <th>2</th>\n      <td>KSC LC-39A</td>\n      <td>28.573255</td>\n      <td>-80.646895</td>\n      <td>[green, red, green, green, red, green, green, ...</td>\n    </tr>\n    <tr>\n      <th>3</th>\n      <td>VAFB SLC-4E</td>\n      <td>34.632834</td>\n      <td>-120.610745</td>\n      <td>[red, red, green, green, green, green, red, re...</td>\n    </tr>\n  </tbody>\n</table>\n</div>"
          },
          "metadata": {}
        }
      ],
      "execution_count": 13
    },
    {
      "cell_type": "markdown",
      "source": "*TODO:* For each launch result in `spacex_df` data frame, add a `folium.Marker` to `marker_cluster`\n",
      "metadata": {}
    },
    {
      "cell_type": "code",
      "source": "# Add marker_cluster to current site_map\nsite_map.add_child(marker_cluster)\n\n# for each row in spacex_df data frame\n# create a Marker object with its coordinate\n# and customize the Marker's icon property to indicate if this launch was successed or failed, \n# e.g., icon=folium.Icon(color='white', icon_color=row['marker_color']\nfor index, record in spacex_df.iterrows():\n    # TODO: Create and add a Marker cluster to the site map\n    lat = record[\"Lat\"]\n    long = record[\"Long\"]\n    color = ''\n    if record['class'] == 1:\n        # If class=1, marker_color value will be green\n        color ='green'\n    elif record['class'] == 0:\n        # If class=0, marker_color value will be red\n        color = 'red'\n    marker = folium.Marker([lat, long], icon= None, color= color)\n    marker_cluster.add_child(marker)\n\nsite_map",
      "metadata": {
        "trusted": true
      },
      "outputs": [
        {
          "execution_count": 16,
          "output_type": "execute_result",
          "data": {
            "text/plain": "<folium.folium.Map at 0x5a94ae8>",
            "text/html": "<div style=\"width:100%;\"><div style=\"position:relative;width:100%;height:0;padding-bottom:60%;\"><span style=\"color:#565656\">Make this Notebook Trusted to load map: File -> Trust Notebook</span><iframe srcdoc=\"&lt;!DOCTYPE html&gt;\n&lt;html&gt;\n&lt;head&gt;\n    \n    &lt;meta http-equiv=&quot;content-type&quot; content=&quot;text/html; charset=UTF-8&quot; /&gt;\n    \n        &lt;script&gt;\n            L_NO_TOUCH = false;\n            L_DISABLE_3D = false;\n        &lt;/script&gt;\n    \n    &lt;style&gt;html, body {width: 100%;height: 100%;margin: 0;padding: 0;}&lt;/style&gt;\n    &lt;style&gt;#map {position:absolute;top:0;bottom:0;right:0;left:0;}&lt;/style&gt;\n    &lt;script src=&quot;https://cdn.jsdelivr.net/npm/leaflet@1.9.3/dist/leaflet.js&quot;&gt;&lt;/script&gt;\n    &lt;script src=&quot;https://code.jquery.com/jquery-3.7.1.min.js&quot;&gt;&lt;/script&gt;\n    &lt;script src=&quot;https://cdn.jsdelivr.net/npm/bootstrap@5.2.2/dist/js/bootstrap.bundle.min.js&quot;&gt;&lt;/script&gt;\n    &lt;script src=&quot;https://cdnjs.cloudflare.com/ajax/libs/Leaflet.awesome-markers/2.0.2/leaflet.awesome-markers.js&quot;&gt;&lt;/script&gt;\n    &lt;link rel=&quot;stylesheet&quot; href=&quot;https://cdn.jsdelivr.net/npm/leaflet@1.9.3/dist/leaflet.css&quot;/&gt;\n    &lt;link rel=&quot;stylesheet&quot; href=&quot;https://cdn.jsdelivr.net/npm/bootstrap@5.2.2/dist/css/bootstrap.min.css&quot;/&gt;\n    &lt;link rel=&quot;stylesheet&quot; href=&quot;https://netdna.bootstrapcdn.com/bootstrap/3.0.0/css/bootstrap.min.css&quot;/&gt;\n    &lt;link rel=&quot;stylesheet&quot; href=&quot;https://cdn.jsdelivr.net/npm/@fortawesome/fontawesome-free@6.2.0/css/all.min.css&quot;/&gt;\n    &lt;link rel=&quot;stylesheet&quot; href=&quot;https://cdnjs.cloudflare.com/ajax/libs/Leaflet.awesome-markers/2.0.2/leaflet.awesome-markers.css&quot;/&gt;\n    &lt;link rel=&quot;stylesheet&quot; href=&quot;https://cdn.jsdelivr.net/gh/python-visualization/folium/folium/templates/leaflet.awesome.rotate.min.css&quot;/&gt;\n    \n            &lt;meta name=&quot;viewport&quot; content=&quot;width=device-width,\n                initial-scale=1.0, maximum-scale=1.0, user-scalable=no&quot; /&gt;\n            &lt;style&gt;\n                #map_3c3a262344c4c453d891040857d54011 {\n                    position: relative;\n                    width: 100.0%;\n                    height: 100.0%;\n                    left: 0.0%;\n                    top: 0.0%;\n                }\n                .leaflet-container { font-size: 1rem; }\n            &lt;/style&gt;\n        \n    &lt;script src=&quot;https://cdnjs.cloudflare.com/ajax/libs/leaflet.markercluster/1.1.0/leaflet.markercluster.js&quot;&gt;&lt;/script&gt;\n    &lt;link rel=&quot;stylesheet&quot; href=&quot;https://cdnjs.cloudflare.com/ajax/libs/leaflet.markercluster/1.1.0/MarkerCluster.css&quot;/&gt;\n    &lt;link rel=&quot;stylesheet&quot; href=&quot;https://cdnjs.cloudflare.com/ajax/libs/leaflet.markercluster/1.1.0/MarkerCluster.Default.css&quot;/&gt;\n&lt;/head&gt;\n&lt;body&gt;\n    \n    \n            &lt;div class=&quot;folium-map&quot; id=&quot;map_3c3a262344c4c453d891040857d54011&quot; &gt;&lt;/div&gt;\n        \n&lt;/body&gt;\n&lt;script&gt;\n    \n    \n            var map_3c3a262344c4c453d891040857d54011 = L.map(\n                &quot;map_3c3a262344c4c453d891040857d54011&quot;,\n                {\n                    center: [29.559684888503615, -95.0830971930759],\n                    crs: L.CRS.EPSG3857,\n                    zoom: 5,\n                    zoomControl: true,\n                    preferCanvas: false,\n                }\n            );\n\n            \n\n        \n    \n            var tile_layer_1d17a45cb2fa38360dd5e11a9e9630fd = L.tileLayer(\n                &quot;https://tile.openstreetmap.org/{z}/{x}/{y}.png&quot;,\n                {&quot;attribution&quot;: &quot;\\u0026copy; \\u003ca href=\\&quot;https://www.openstreetmap.org/copyright\\&quot;\\u003eOpenStreetMap\\u003c/a\\u003e contributors&quot;, &quot;detectRetina&quot;: false, &quot;maxNativeZoom&quot;: 19, &quot;maxZoom&quot;: 19, &quot;minZoom&quot;: 0, &quot;noWrap&quot;: false, &quot;opacity&quot;: 1, &quot;subdomains&quot;: &quot;abc&quot;, &quot;tms&quot;: false}\n            );\n        \n    \n            tile_layer_1d17a45cb2fa38360dd5e11a9e9630fd.addTo(map_3c3a262344c4c453d891040857d54011);\n        \n    \n            var circle_144d6359c4b1281085a92b7be2183c96 = L.circle(\n                [28.56230197, -80.57735648],\n                {&quot;bubblingMouseEvents&quot;: true, &quot;color&quot;: &quot;#d35400&quot;, &quot;dashArray&quot;: null, &quot;dashOffset&quot;: null, &quot;fill&quot;: true, &quot;fillColor&quot;: &quot;#d35400&quot;, &quot;fillOpacity&quot;: 0.2, &quot;fillRule&quot;: &quot;evenodd&quot;, &quot;lineCap&quot;: &quot;round&quot;, &quot;lineJoin&quot;: &quot;round&quot;, &quot;opacity&quot;: 1.0, &quot;radius&quot;: 1000, &quot;stroke&quot;: true, &quot;weight&quot;: 3}\n            ).addTo(map_3c3a262344c4c453d891040857d54011);\n        \n    \n        var popup_8a10419ff9f51d8b3b823ab192f62084 = L.popup({&quot;maxWidth&quot;: &quot;100%&quot;});\n\n        \n            \n                var html_c51a348a247bc2c3abb47f96b0309e7f = $(`&lt;div id=&quot;html_c51a348a247bc2c3abb47f96b0309e7f&quot; style=&quot;width: 100.0%; height: 100.0%;&quot;&gt;CCAFS LC-40&lt;/div&gt;`)[0];\n                popup_8a10419ff9f51d8b3b823ab192f62084.setContent(html_c51a348a247bc2c3abb47f96b0309e7f);\n            \n        \n\n        circle_144d6359c4b1281085a92b7be2183c96.bindPopup(popup_8a10419ff9f51d8b3b823ab192f62084)\n        ;\n\n        \n    \n    \n            var marker_2f7ad9aeafdf330d3bd11a6ba9efbc70 = L.marker(\n                [28.56230197, -80.57735648],\n                {}\n            ).addTo(map_3c3a262344c4c453d891040857d54011);\n        \n    \n            var div_icon_474bb4992aa9a76401169151dc1b5086 = L.divIcon({&quot;className&quot;: &quot;empty&quot;, &quot;html&quot;: &quot;\\u003cdiv style=\\&quot;font-size: 12; color:#d35400;\\&quot;\\u003e\\u003cb\\u003eCCAFS LC-40\\u003c/b\\u003e\\u003c/div\\u003e&quot;, &quot;iconAnchor&quot;: [0, 0], &quot;iconSize&quot;: [20, 20]});\n            marker_2f7ad9aeafdf330d3bd11a6ba9efbc70.setIcon(div_icon_474bb4992aa9a76401169151dc1b5086);\n        \n    \n            var circle_9c44d48743bf6c356135a7276d44b85d = L.circle(\n                [28.56319718, -80.57682003],\n                {&quot;bubblingMouseEvents&quot;: true, &quot;color&quot;: &quot;#d35400&quot;, &quot;dashArray&quot;: null, &quot;dashOffset&quot;: null, &quot;fill&quot;: true, &quot;fillColor&quot;: &quot;#d35400&quot;, &quot;fillOpacity&quot;: 0.2, &quot;fillRule&quot;: &quot;evenodd&quot;, &quot;lineCap&quot;: &quot;round&quot;, &quot;lineJoin&quot;: &quot;round&quot;, &quot;opacity&quot;: 1.0, &quot;radius&quot;: 1000, &quot;stroke&quot;: true, &quot;weight&quot;: 3}\n            ).addTo(map_3c3a262344c4c453d891040857d54011);\n        \n    \n        var popup_9156565de91bdbedf2dbdd3a92a4e5fd = L.popup({&quot;maxWidth&quot;: &quot;100%&quot;});\n\n        \n            \n                var html_6608a0d8bc8ebff377df540f4ffb6bbf = $(`&lt;div id=&quot;html_6608a0d8bc8ebff377df540f4ffb6bbf&quot; style=&quot;width: 100.0%; height: 100.0%;&quot;&gt;CCAFS SLC-40&lt;/div&gt;`)[0];\n                popup_9156565de91bdbedf2dbdd3a92a4e5fd.setContent(html_6608a0d8bc8ebff377df540f4ffb6bbf);\n            \n        \n\n        circle_9c44d48743bf6c356135a7276d44b85d.bindPopup(popup_9156565de91bdbedf2dbdd3a92a4e5fd)\n        ;\n\n        \n    \n    \n            var marker_e0b62199cf7f892161894270fc3be36c = L.marker(\n                [28.56319718, -80.57682003],\n                {}\n            ).addTo(map_3c3a262344c4c453d891040857d54011);\n        \n    \n            var div_icon_c6643a179d8d03d7bace86d8b9aa1332 = L.divIcon({&quot;className&quot;: &quot;empty&quot;, &quot;html&quot;: &quot;\\u003cdiv style=\\&quot;font-size: 12; color:#d35400;\\&quot;\\u003e\\u003cb\\u003eCCAFS SLC-40\\u003c/b\\u003e\\u003c/div\\u003e&quot;, &quot;iconAnchor&quot;: [0, 0], &quot;iconSize&quot;: [20, 20]});\n            marker_e0b62199cf7f892161894270fc3be36c.setIcon(div_icon_c6643a179d8d03d7bace86d8b9aa1332);\n        \n    \n            var circle_5b308c34bbbd092cbe240b85937d06ee = L.circle(\n                [28.57325457, -80.64689529],\n                {&quot;bubblingMouseEvents&quot;: true, &quot;color&quot;: &quot;#d35400&quot;, &quot;dashArray&quot;: null, &quot;dashOffset&quot;: null, &quot;fill&quot;: true, &quot;fillColor&quot;: &quot;#d35400&quot;, &quot;fillOpacity&quot;: 0.2, &quot;fillRule&quot;: &quot;evenodd&quot;, &quot;lineCap&quot;: &quot;round&quot;, &quot;lineJoin&quot;: &quot;round&quot;, &quot;opacity&quot;: 1.0, &quot;radius&quot;: 1000, &quot;stroke&quot;: true, &quot;weight&quot;: 3}\n            ).addTo(map_3c3a262344c4c453d891040857d54011);\n        \n    \n        var popup_d22661abe130cc2b88051dc54adf9c80 = L.popup({&quot;maxWidth&quot;: &quot;100%&quot;});\n\n        \n            \n                var html_055db58bb7cf8503ce037673810d3f09 = $(`&lt;div id=&quot;html_055db58bb7cf8503ce037673810d3f09&quot; style=&quot;width: 100.0%; height: 100.0%;&quot;&gt;KSC LC-39A&lt;/div&gt;`)[0];\n                popup_d22661abe130cc2b88051dc54adf9c80.setContent(html_055db58bb7cf8503ce037673810d3f09);\n            \n        \n\n        circle_5b308c34bbbd092cbe240b85937d06ee.bindPopup(popup_d22661abe130cc2b88051dc54adf9c80)\n        ;\n\n        \n    \n    \n            var marker_cf30a91f185af5c0ea1a75cc402c4947 = L.marker(\n                [28.57325457, -80.64689529],\n                {}\n            ).addTo(map_3c3a262344c4c453d891040857d54011);\n        \n    \n            var div_icon_0f667bfd6769efaf1c6b1ebbd3fe1056 = L.divIcon({&quot;className&quot;: &quot;empty&quot;, &quot;html&quot;: &quot;\\u003cdiv style=\\&quot;font-size: 12; color:#d35400;\\&quot;\\u003e\\u003cb\\u003eKSC LC-39A\\u003c/b\\u003e\\u003c/div\\u003e&quot;, &quot;iconAnchor&quot;: [0, 0], &quot;iconSize&quot;: [20, 20]});\n            marker_cf30a91f185af5c0ea1a75cc402c4947.setIcon(div_icon_0f667bfd6769efaf1c6b1ebbd3fe1056);\n        \n    \n            var circle_c4307637da960535be7372d8f926cf45 = L.circle(\n                [34.63283416, -120.6107455],\n                {&quot;bubblingMouseEvents&quot;: true, &quot;color&quot;: &quot;#d35400&quot;, &quot;dashArray&quot;: null, &quot;dashOffset&quot;: null, &quot;fill&quot;: true, &quot;fillColor&quot;: &quot;#d35400&quot;, &quot;fillOpacity&quot;: 0.2, &quot;fillRule&quot;: &quot;evenodd&quot;, &quot;lineCap&quot;: &quot;round&quot;, &quot;lineJoin&quot;: &quot;round&quot;, &quot;opacity&quot;: 1.0, &quot;radius&quot;: 1000, &quot;stroke&quot;: true, &quot;weight&quot;: 3}\n            ).addTo(map_3c3a262344c4c453d891040857d54011);\n        \n    \n        var popup_79f25f887748b1d0dfbe39f60825e312 = L.popup({&quot;maxWidth&quot;: &quot;100%&quot;});\n\n        \n            \n                var html_3f002066cc91b0686f78517436ed6579 = $(`&lt;div id=&quot;html_3f002066cc91b0686f78517436ed6579&quot; style=&quot;width: 100.0%; height: 100.0%;&quot;&gt;VAFB SLC-4E&lt;/div&gt;`)[0];\n                popup_79f25f887748b1d0dfbe39f60825e312.setContent(html_3f002066cc91b0686f78517436ed6579);\n            \n        \n\n        circle_c4307637da960535be7372d8f926cf45.bindPopup(popup_79f25f887748b1d0dfbe39f60825e312)\n        ;\n\n        \n    \n    \n            var marker_5b62f12c4a9c1c6703b8bc1ac22a42d7 = L.marker(\n                [34.63283416, -120.6107455],\n                {}\n            ).addTo(map_3c3a262344c4c453d891040857d54011);\n        \n    \n            var div_icon_c643e1d17d3c400ea326ea7580db1d0e = L.divIcon({&quot;className&quot;: &quot;empty&quot;, &quot;html&quot;: &quot;\\u003cdiv style=\\&quot;font-size: 12; color:#d35400;\\&quot;\\u003e\\u003cb\\u003eVAFB SLC-4E\\u003c/b\\u003e\\u003c/div\\u003e&quot;, &quot;iconAnchor&quot;: [0, 0], &quot;iconSize&quot;: [20, 20]});\n            marker_5b62f12c4a9c1c6703b8bc1ac22a42d7.setIcon(div_icon_c643e1d17d3c400ea326ea7580db1d0e);\n        \n    \n            tile_layer_1d17a45cb2fa38360dd5e11a9e9630fd.addTo(map_3c3a262344c4c453d891040857d54011);\n        \n    \n            var marker_cluster_a2f35ec08c99c9b70bf831f767ee3a48 = L.markerClusterGroup(\n                {}\n            );\n        \n    \n            var marker_a8cc7e441250cc1def18b0585952583e = L.marker(\n                [28.56230197, -80.57735648],\n                {&quot;color&quot;: &quot;red&quot;}\n            ).addTo(marker_cluster_a2f35ec08c99c9b70bf831f767ee3a48);\n        \n    \n            var marker_e5449fb16156fa0ab0f44bb960a0442e = L.marker(\n                [28.56230197, -80.57735648],\n                {&quot;color&quot;: &quot;red&quot;}\n            ).addTo(marker_cluster_a2f35ec08c99c9b70bf831f767ee3a48);\n        \n    \n            var marker_1bc9ac2592118cc5eedd74b7c97d2d55 = L.marker(\n                [28.56230197, -80.57735648],\n                {&quot;color&quot;: &quot;red&quot;}\n            ).addTo(marker_cluster_a2f35ec08c99c9b70bf831f767ee3a48);\n        \n    \n            var marker_079d5b0722e237ceef105187a28d75e8 = L.marker(\n                [28.56230197, -80.57735648],\n                {&quot;color&quot;: &quot;red&quot;}\n            ).addTo(marker_cluster_a2f35ec08c99c9b70bf831f767ee3a48);\n        \n    \n            var marker_2b67841c07aff2a3c9587099d7ed5ead = L.marker(\n                [28.56230197, -80.57735648],\n                {&quot;color&quot;: &quot;red&quot;}\n            ).addTo(marker_cluster_a2f35ec08c99c9b70bf831f767ee3a48);\n        \n    \n            var marker_f67dc585fb007fb5a3b87219e73e1bb6 = L.marker(\n                [28.56230197, -80.57735648],\n                {&quot;color&quot;: &quot;red&quot;}\n            ).addTo(marker_cluster_a2f35ec08c99c9b70bf831f767ee3a48);\n        \n    \n            var marker_9197814e10ef14f7e46f5c5fe2257376 = L.marker(\n                [28.56230197, -80.57735648],\n                {&quot;color&quot;: &quot;red&quot;}\n            ).addTo(marker_cluster_a2f35ec08c99c9b70bf831f767ee3a48);\n        \n    \n            var marker_41f7fd0a62fad2dd38d5dc782915bc59 = L.marker(\n                [28.56230197, -80.57735648],\n                {&quot;color&quot;: &quot;red&quot;}\n            ).addTo(marker_cluster_a2f35ec08c99c9b70bf831f767ee3a48);\n        \n    \n            var marker_c3977c61b100fa8720097c858b9c75cb = L.marker(\n                [28.56230197, -80.57735648],\n                {&quot;color&quot;: &quot;red&quot;}\n            ).addTo(marker_cluster_a2f35ec08c99c9b70bf831f767ee3a48);\n        \n    \n            var marker_0ef45cbf0a4f50d4ef424d230813b507 = L.marker(\n                [28.56230197, -80.57735648],\n                {&quot;color&quot;: &quot;red&quot;}\n            ).addTo(marker_cluster_a2f35ec08c99c9b70bf831f767ee3a48);\n        \n    \n            var marker_520aa61a3fb68ee0eba8b7f2a18effa8 = L.marker(\n                [28.56230197, -80.57735648],\n                {&quot;color&quot;: &quot;red&quot;}\n            ).addTo(marker_cluster_a2f35ec08c99c9b70bf831f767ee3a48);\n        \n    \n            var marker_28e76dd7b6cca6bff8e861000a27006a = L.marker(\n                [28.56230197, -80.57735648],\n                {&quot;color&quot;: &quot;red&quot;}\n            ).addTo(marker_cluster_a2f35ec08c99c9b70bf831f767ee3a48);\n        \n    \n            var marker_dc7a7de24d603215d7819e3f05b33097 = L.marker(\n                [28.56230197, -80.57735648],\n                {&quot;color&quot;: &quot;red&quot;}\n            ).addTo(marker_cluster_a2f35ec08c99c9b70bf831f767ee3a48);\n        \n    \n            var marker_b4de419e90fe8972ae8de08e82e8d954 = L.marker(\n                [28.56230197, -80.57735648],\n                {&quot;color&quot;: &quot;red&quot;}\n            ).addTo(marker_cluster_a2f35ec08c99c9b70bf831f767ee3a48);\n        \n    \n            var marker_4c5020ca1c494e43e2d1324c793dca5b = L.marker(\n                [28.56230197, -80.57735648],\n                {&quot;color&quot;: &quot;red&quot;}\n            ).addTo(marker_cluster_a2f35ec08c99c9b70bf831f767ee3a48);\n        \n    \n            var marker_1efbb78331905255f29909d19161c825 = L.marker(\n                [28.56230197, -80.57735648],\n                {&quot;color&quot;: &quot;red&quot;}\n            ).addTo(marker_cluster_a2f35ec08c99c9b70bf831f767ee3a48);\n        \n    \n            var marker_08a4ef4085e9c6f688218108e0579d4f = L.marker(\n                [28.56230197, -80.57735648],\n                {&quot;color&quot;: &quot;red&quot;}\n            ).addTo(marker_cluster_a2f35ec08c99c9b70bf831f767ee3a48);\n        \n    \n            var marker_b1a1f2df98b4f4b089d28ecc0bbe3434 = L.marker(\n                [28.56230197, -80.57735648],\n                {&quot;color&quot;: &quot;green&quot;}\n            ).addTo(marker_cluster_a2f35ec08c99c9b70bf831f767ee3a48);\n        \n    \n            var marker_142ef41b87edbd9a6861758128a952b4 = L.marker(\n                [28.56230197, -80.57735648],\n                {&quot;color&quot;: &quot;green&quot;}\n            ).addTo(marker_cluster_a2f35ec08c99c9b70bf831f767ee3a48);\n        \n    \n            var marker_ca761b9e41ef2a59795d3c582a4d0c95 = L.marker(\n                [28.56230197, -80.57735648],\n                {&quot;color&quot;: &quot;red&quot;}\n            ).addTo(marker_cluster_a2f35ec08c99c9b70bf831f767ee3a48);\n        \n    \n            var marker_9fafb658e128d61c5423b1ba1c39a149 = L.marker(\n                [28.56230197, -80.57735648],\n                {&quot;color&quot;: &quot;green&quot;}\n            ).addTo(marker_cluster_a2f35ec08c99c9b70bf831f767ee3a48);\n        \n    \n            var marker_69b46b397ffc187c6f4c54b4eb4d0504 = L.marker(\n                [28.56230197, -80.57735648],\n                {&quot;color&quot;: &quot;green&quot;}\n            ).addTo(marker_cluster_a2f35ec08c99c9b70bf831f767ee3a48);\n        \n    \n            var marker_64e7cfccfbfb1d33454ba14233c1073b = L.marker(\n                [28.56230197, -80.57735648],\n                {&quot;color&quot;: &quot;green&quot;}\n            ).addTo(marker_cluster_a2f35ec08c99c9b70bf831f767ee3a48);\n        \n    \n            var marker_8331f429a1a1799a45fa28dc24b80187 = L.marker(\n                [28.56230197, -80.57735648],\n                {&quot;color&quot;: &quot;red&quot;}\n            ).addTo(marker_cluster_a2f35ec08c99c9b70bf831f767ee3a48);\n        \n    \n            var marker_e57639e78179e9a66634749ecd267134 = L.marker(\n                [28.56230197, -80.57735648],\n                {&quot;color&quot;: &quot;green&quot;}\n            ).addTo(marker_cluster_a2f35ec08c99c9b70bf831f767ee3a48);\n        \n    \n            var marker_4f293de55ba87afa3716855cbbbbcbe7 = L.marker(\n                [28.56230197, -80.57735648],\n                {&quot;color&quot;: &quot;green&quot;}\n            ).addTo(marker_cluster_a2f35ec08c99c9b70bf831f767ee3a48);\n        \n    \n            var marker_9ba02d16e92cc0bc3c879a42ac61d587 = L.marker(\n                [34.63283416, -120.6107455],\n                {&quot;color&quot;: &quot;red&quot;}\n            ).addTo(marker_cluster_a2f35ec08c99c9b70bf831f767ee3a48);\n        \n    \n            var marker_8bc519a066c72a4a6fce2ace6b80a3ec = L.marker(\n                [34.63283416, -120.6107455],\n                {&quot;color&quot;: &quot;red&quot;}\n            ).addTo(marker_cluster_a2f35ec08c99c9b70bf831f767ee3a48);\n        \n    \n            var marker_faad549c4063fb2e1394a9cce78fb473 = L.marker(\n                [34.63283416, -120.6107455],\n                {&quot;color&quot;: &quot;green&quot;}\n            ).addTo(marker_cluster_a2f35ec08c99c9b70bf831f767ee3a48);\n        \n    \n            var marker_ac6acb88d7ac91d45d99dccbe5c0f63b = L.marker(\n                [34.63283416, -120.6107455],\n                {&quot;color&quot;: &quot;green&quot;}\n            ).addTo(marker_cluster_a2f35ec08c99c9b70bf831f767ee3a48);\n        \n    \n            var marker_99ba96f43c51f70f1ff442e7b123b07c = L.marker(\n                [34.63283416, -120.6107455],\n                {&quot;color&quot;: &quot;green&quot;}\n            ).addTo(marker_cluster_a2f35ec08c99c9b70bf831f767ee3a48);\n        \n    \n            var marker_e9cb061ef3fe95d10959db90095158fe = L.marker(\n                [34.63283416, -120.6107455],\n                {&quot;color&quot;: &quot;green&quot;}\n            ).addTo(marker_cluster_a2f35ec08c99c9b70bf831f767ee3a48);\n        \n    \n            var marker_be61d6e1b90098334a6c6c4237f1eda7 = L.marker(\n                [34.63283416, -120.6107455],\n                {&quot;color&quot;: &quot;red&quot;}\n            ).addTo(marker_cluster_a2f35ec08c99c9b70bf831f767ee3a48);\n        \n    \n            var marker_e527add3d456ecf054cda1467354a43c = L.marker(\n                [34.63283416, -120.6107455],\n                {&quot;color&quot;: &quot;red&quot;}\n            ).addTo(marker_cluster_a2f35ec08c99c9b70bf831f767ee3a48);\n        \n    \n            var marker_8a794209e7ee25f41cbaba83c5de0400 = L.marker(\n                [34.63283416, -120.6107455],\n                {&quot;color&quot;: &quot;red&quot;}\n            ).addTo(marker_cluster_a2f35ec08c99c9b70bf831f767ee3a48);\n        \n    \n            var marker_47f57d6849275a90a33963ba61ad3d33 = L.marker(\n                [34.63283416, -120.6107455],\n                {&quot;color&quot;: &quot;red&quot;}\n            ).addTo(marker_cluster_a2f35ec08c99c9b70bf831f767ee3a48);\n        \n    \n            var marker_cefb7bcf8bbc647d12929dc677e257dc = L.marker(\n                [28.57325457, -80.64689529],\n                {&quot;color&quot;: &quot;green&quot;}\n            ).addTo(marker_cluster_a2f35ec08c99c9b70bf831f767ee3a48);\n        \n    \n            var marker_513931252b6baacf34a6d95fdf8a168d = L.marker(\n                [28.57325457, -80.64689529],\n                {&quot;color&quot;: &quot;red&quot;}\n            ).addTo(marker_cluster_a2f35ec08c99c9b70bf831f767ee3a48);\n        \n    \n            var marker_3eea5f21550cbd04ad15432351a2b433 = L.marker(\n                [28.57325457, -80.64689529],\n                {&quot;color&quot;: &quot;green&quot;}\n            ).addTo(marker_cluster_a2f35ec08c99c9b70bf831f767ee3a48);\n        \n    \n            var marker_8872ecb5d88ec7696788d2341127ecbc = L.marker(\n                [28.57325457, -80.64689529],\n                {&quot;color&quot;: &quot;green&quot;}\n            ).addTo(marker_cluster_a2f35ec08c99c9b70bf831f767ee3a48);\n        \n    \n            var marker_dc8703062385b38dcdf0428e5fadae97 = L.marker(\n                [28.57325457, -80.64689529],\n                {&quot;color&quot;: &quot;red&quot;}\n            ).addTo(marker_cluster_a2f35ec08c99c9b70bf831f767ee3a48);\n        \n    \n            var marker_bf86aabbe6df940e0c2817f489dc1330 = L.marker(\n                [28.57325457, -80.64689529],\n                {&quot;color&quot;: &quot;green&quot;}\n            ).addTo(marker_cluster_a2f35ec08c99c9b70bf831f767ee3a48);\n        \n    \n            var marker_99d523d2afea7e8927406a1164ade57c = L.marker(\n                [28.57325457, -80.64689529],\n                {&quot;color&quot;: &quot;green&quot;}\n            ).addTo(marker_cluster_a2f35ec08c99c9b70bf831f767ee3a48);\n        \n    \n            var marker_2e38984ba446735790fd53acc302d09d = L.marker(\n                [28.57325457, -80.64689529],\n                {&quot;color&quot;: &quot;red&quot;}\n            ).addTo(marker_cluster_a2f35ec08c99c9b70bf831f767ee3a48);\n        \n    \n            var marker_1ded5629d23bd42dde31bf0ebcb466bb = L.marker(\n                [28.57325457, -80.64689529],\n                {&quot;color&quot;: &quot;green&quot;}\n            ).addTo(marker_cluster_a2f35ec08c99c9b70bf831f767ee3a48);\n        \n    \n            var marker_d0ac01abafa44e106739a4251f969554 = L.marker(\n                [28.57325457, -80.64689529],\n                {&quot;color&quot;: &quot;green&quot;}\n            ).addTo(marker_cluster_a2f35ec08c99c9b70bf831f767ee3a48);\n        \n    \n            var marker_a0b8ed75e3cb9060661b6826348cf761 = L.marker(\n                [28.57325457, -80.64689529],\n                {&quot;color&quot;: &quot;green&quot;}\n            ).addTo(marker_cluster_a2f35ec08c99c9b70bf831f767ee3a48);\n        \n    \n            var marker_cc8cb9051d3845afb13315bb4af984ae = L.marker(\n                [28.57325457, -80.64689529],\n                {&quot;color&quot;: &quot;green&quot;}\n            ).addTo(marker_cluster_a2f35ec08c99c9b70bf831f767ee3a48);\n        \n    \n            var marker_0ce14f3573a289b16801e793d3c5eaa9 = L.marker(\n                [28.57325457, -80.64689529],\n                {&quot;color&quot;: &quot;green&quot;}\n            ).addTo(marker_cluster_a2f35ec08c99c9b70bf831f767ee3a48);\n        \n    \n            var marker_266807a363446547b24a7623511c8a98 = L.marker(\n                [28.56319718, -80.57682003],\n                {&quot;color&quot;: &quot;green&quot;}\n            ).addTo(marker_cluster_a2f35ec08c99c9b70bf831f767ee3a48);\n        \n    \n            var marker_9bdf2bd9d199fb8e0d2b8778d0c43d4d = L.marker(\n                [28.56319718, -80.57682003],\n                {&quot;color&quot;: &quot;green&quot;}\n            ).addTo(marker_cluster_a2f35ec08c99c9b70bf831f767ee3a48);\n        \n    \n            var marker_f4538e40ef6d79e03cd00a6287340506 = L.marker(\n                [28.56319718, -80.57682003],\n                {&quot;color&quot;: &quot;red&quot;}\n            ).addTo(marker_cluster_a2f35ec08c99c9b70bf831f767ee3a48);\n        \n    \n            var marker_47b613bc268a2d9a88f3ffe87477e3d1 = L.marker(\n                [28.56319718, -80.57682003],\n                {&quot;color&quot;: &quot;red&quot;}\n            ).addTo(marker_cluster_a2f35ec08c99c9b70bf831f767ee3a48);\n        \n    \n            var marker_41bc56089e6bc365e8b5230f91976698 = L.marker(\n                [28.56319718, -80.57682003],\n                {&quot;color&quot;: &quot;red&quot;}\n            ).addTo(marker_cluster_a2f35ec08c99c9b70bf831f767ee3a48);\n        \n    \n            var marker_e94287ea6fa1dab3f612f7a35e3cecab = L.marker(\n                [28.56319718, -80.57682003],\n                {&quot;color&quot;: &quot;green&quot;}\n            ).addTo(marker_cluster_a2f35ec08c99c9b70bf831f767ee3a48);\n        \n    \n            var marker_eefdb36ab5179e91b5332646df8b42c0 = L.marker(\n                [28.56319718, -80.57682003],\n                {&quot;color&quot;: &quot;red&quot;}\n            ).addTo(marker_cluster_a2f35ec08c99c9b70bf831f767ee3a48);\n        \n    \n            marker_cluster_a2f35ec08c99c9b70bf831f767ee3a48.addTo(map_3c3a262344c4c453d891040857d54011);\n        \n&lt;/script&gt;\n&lt;/html&gt;\" style=\"position:absolute;width:100%;height:100%;left:0;top:0;border:none !important;\" allowfullscreen webkitallowfullscreen mozallowfullscreen></iframe></div></div>"
          },
          "metadata": {}
        }
      ],
      "execution_count": 16
    },
    {
      "cell_type": "markdown",
      "source": "Your updated map may look like the following screenshots:\n",
      "metadata": {}
    },
    {
      "cell_type": "markdown",
      "source": "<center>\n    <img src=\"https://cf-courses-data.s3.us.cloud-object-storage.appdomain.cloud/IBM-DS0321EN-SkillsNetwork/labs/module_3/images/launch_site_marker_cluster.png\">\n</center>\n",
      "metadata": {}
    },
    {
      "cell_type": "markdown",
      "source": "<center>\n    <img src=\"https://cf-courses-data.s3.us.cloud-object-storage.appdomain.cloud/IBM-DS0321EN-SkillsNetwork/labs/module_3/images/launch_site_marker_cluster_zoomed.png\">\n</center>\n",
      "metadata": {}
    },
    {
      "cell_type": "markdown",
      "source": "From the color-labeled markers in marker clusters, you should be able to easily identify which launch sites have relatively high success rates.\n",
      "metadata": {}
    },
    {
      "cell_type": "code",
      "source": "# TASK 3: Calculate the distances between a launch site to its proximities\n",
      "metadata": {},
      "outputs": [],
      "execution_count": null
    },
    {
      "cell_type": "markdown",
      "source": "Next, we need to explore and analyze the proximities of launch sites.\n",
      "metadata": {}
    },
    {
      "cell_type": "markdown",
      "source": "Let's first add a `MousePosition` on the map to get coordinate for a mouse over a point on the map. As such, while you are exploring the map, you can easily find the coordinates of any points of interests (such as railway)\n",
      "metadata": {}
    },
    {
      "cell_type": "code",
      "source": "# Add Mouse Position to get the coordinate (Lat, Long) for a mouse over on the map\nformatter = \"function(num) {return L.Util.formatNum(num, 5);};\"\nmouse_position = MousePosition(\n    position='topright',\n    separator=' Long: ',\n    empty_string='NaN',\n    lng_first=False,\n    num_digits=20,\n    prefix='Lat:',\n    lat_formatter=formatter,\n    lng_formatter=formatter,\n)\n\nsite_map.add_child(mouse_position)\nsite_map",
      "metadata": {},
      "outputs": [],
      "execution_count": null
    },
    {
      "cell_type": "markdown",
      "source": "Now zoom in to a launch site and explore its proximity to see if you can easily find any railway, highway, coastline, etc. Move your mouse to these points and mark down their coordinates (shown on the top-left) in order to the distance to the launch site.\n",
      "metadata": {}
    },
    {
      "cell_type": "markdown",
      "source": "Now zoom in to a launch site and explore its proximity to see if you can easily find any railway, highway, coastline, etc. Move your mouse to these points and mark down their coordinates (shown on the top-left) in order to the distance to the launch site.\n",
      "metadata": {}
    },
    {
      "cell_type": "code",
      "source": "from math import sin, cos, sqrt, atan2, radians\n\ndef calculate_distance(lat1, lon1, lat2, lon2):\n    # approximate radius of earth in km\n    R = 6373.0\n\n    lat1 = radians(lat1)\n    lon1 = radians(lon1)\n    lat2 = radians(lat2)\n    lon2 = radians(lon2)\n\n    dlon = lon2 - lon1\n    dlat = lat2 - lat1\n\n    a = sin(dlat / 2)**2 + cos(lat1) * cos(lat2) * sin(dlon / 2)**2\n    c = 2 * atan2(sqrt(a), sqrt(1 - a))\n\n    distance = R * c\n    return distance",
      "metadata": {},
      "outputs": [],
      "execution_count": null
    },
    {
      "cell_type": "markdown",
      "source": "*TODO:* Mark down a point on the closest coastline using MousePosition and calculate the distance between the coastline point and the launch site.\n",
      "metadata": {}
    },
    {
      "cell_type": "code",
      "source": "# find coordinate of the closet coastline\n# e.g.,: Lat: 28.56367  Lon: -80.57163\n# distance_coastline = calculate_distance(launch_site_lat, launch_site_lon, coastline_lat, coastline_lon)",
      "metadata": {},
      "outputs": [],
      "execution_count": null
    },
    {
      "cell_type": "code",
      "source": "# Create and add a folium.Marker on your selected closest coastline point on the map\n# Display the distance between coastline point and launch site using the icon property \n# for example\n# distance_marker = folium.Marker(\n#    coordinate,\n#    icon=DivIcon(\n#        icon_size=(20,20),\n#        icon_anchor=(0,0),\n#        html='<div style=\"font-size: 12; color:#d35400;\"><b>%s</b></div>' % \"{:10.2f} KM\".format(distance),\n#        )\n#    )",
      "metadata": {},
      "outputs": [],
      "execution_count": null
    },
    {
      "cell_type": "markdown",
      "source": "*TODO:* Draw a `PolyLine` between a launch site to the selected coastline point\n",
      "metadata": {}
    },
    {
      "cell_type": "code",
      "source": "# Create a `folium.PolyLine` object using the coastline coordinates and launch site coordinate\n# lines=folium.PolyLine(locations=coordinates, weight=1)\nsite_map.add_child(lines)",
      "metadata": {},
      "outputs": [],
      "execution_count": null
    },
    {
      "cell_type": "markdown",
      "source": "Your updated map with distance line should look like the following screenshot:\n",
      "metadata": {}
    },
    {
      "cell_type": "markdown",
      "source": "<center>\n    <img src=\"https://cf-courses-data.s3.us.cloud-object-storage.appdomain.cloud/IBM-DS0321EN-SkillsNetwork/labs/module_3/images/launch_site_marker_distance.png\">\n</center>\n",
      "metadata": {}
    },
    {
      "cell_type": "markdown",
      "source": "*TODO:* Similarly, you can draw a line betwee a launch site to its closest city, railway, highway, etc. You need to use `MousePosition` to find the their coordinates on the map first\n",
      "metadata": {}
    },
    {
      "cell_type": "markdown",
      "source": "A railway map symbol may look like this:\n",
      "metadata": {}
    },
    {
      "cell_type": "markdown",
      "source": "<center>\n    <img src=\"https://cf-courses-data.s3.us.cloud-object-storage.appdomain.cloud/IBM-DS0321EN-SkillsNetwork/labs/module_3/images/railway.png\">\n</center>\n",
      "metadata": {}
    },
    {
      "cell_type": "markdown",
      "source": "A highway map symbol may look like this:\n",
      "metadata": {}
    },
    {
      "cell_type": "markdown",
      "source": "<center>\n    <img src=\"https://cf-courses-data.s3.us.cloud-object-storage.appdomain.cloud/IBM-DS0321EN-SkillsNetwork/labs/module_3/images/highway.png\">\n</center>\n",
      "metadata": {}
    },
    {
      "cell_type": "markdown",
      "source": "A city map symbol may look like this:\n",
      "metadata": {}
    },
    {
      "cell_type": "markdown",
      "source": "<center>\n    <img src=\"https://cf-courses-data.s3.us.cloud-object-storage.appdomain.cloud/IBM-DS0321EN-SkillsNetwork/labs/module_3/images/city.png\">\n</center>\n",
      "metadata": {}
    },
    {
      "cell_type": "code",
      "source": "# Create a marker with distance to a closest city, railway, highway, etc.\n# Draw a line between the marker to the launch site\n",
      "metadata": {},
      "outputs": [],
      "execution_count": null
    },
    {
      "cell_type": "code",
      "source": "",
      "metadata": {},
      "outputs": [],
      "execution_count": null
    },
    {
      "cell_type": "code",
      "source": "",
      "metadata": {},
      "outputs": [],
      "execution_count": null
    },
    {
      "cell_type": "markdown",
      "source": "After you plot distance lines to the proximities, you can answer the following questions easily:\n\n*   Are launch sites in close proximity to railways?\n*   Are launch sites in close proximity to highways?\n*   Are launch sites in close proximity to coastline?\n*   Do launch sites keep certain distance away from cities?\n\nAlso please try to explain your findings.\n",
      "metadata": {}
    },
    {
      "cell_type": "markdown",
      "source": "# Next Steps:\n\nNow you have discovered many interesting insights related to the launch sites' location using folium, in a very interactive way. Next, you will need to build a dashboard using Ploty Dash on detailed launch records.\n",
      "metadata": {}
    },
    {
      "cell_type": "markdown",
      "source": "## Authors\n",
      "metadata": {}
    },
    {
      "cell_type": "markdown",
      "source": "[Pratiksha Verma](https://www.linkedin.com/in/pratiksha-verma-6487561b1/?utm_medium=Exinfluencer&utm_source=Exinfluencer&utm_content=000026UJ&utm_term=10006555&utm_id=NA-SkillsNetwork-Channel-SkillsNetworkCoursesIBMDS0321ENSkillsNetwork865-2022-01-01)\n",
      "metadata": {}
    },
    {
      "cell_type": "markdown",
      "source": "## Change Log\n",
      "metadata": {}
    },
    {
      "cell_type": "markdown",
      "source": "| Date (YYYY-MM-DD) | Version | Changed By      | Change Description      |\n| ----------------- | ------- | -------------   | ----------------------- |\n| 2022-11-09        | 1.0     | Pratiksha Verma | Converted initial version to Jupyterlite|\n",
      "metadata": {}
    },
    {
      "cell_type": "markdown",
      "source": "### <h3 align=\"center\"> IBM Corporation 2022. All rights reserved. <h3/>\n",
      "metadata": {}
    }
  ]
}